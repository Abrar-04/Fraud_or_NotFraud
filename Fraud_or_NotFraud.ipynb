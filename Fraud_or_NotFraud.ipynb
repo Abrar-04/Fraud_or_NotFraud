{
 "cells": [
  {
   "cell_type": "markdown",
   "metadata": {},
   "source": [
    "# Problem Statement:"
   ]
  },
  {
   "cell_type": "markdown",
   "metadata": {},
   "source": [
    "\n",
    "\n",
    "Given profiles representing fictional customers from an e-commerce company. The profiles contain information about the customer, their orders, their transactions ,what payment methods they used and whether the customer is fraudulent or not. We need to predict the given customer is fraudulent or not based on the above factors"
   ]
  },
  {
   "cell_type": "markdown",
   "metadata": {},
   "source": [
    "##The data given below represents fictional customers from an e-commerce website\n",
    "\n",
    "The data contain information about the customerEmail,orders,transaction they have made,what payment method they have used,through which card the payment has been done and whether the customer is fraudulent or not "
   ]
  },
  {
   "cell_type": "markdown",
   "metadata": {},
   "source": [
    "1)The first thing is loading the dataset "
   ]
  },
  {
   "cell_type": "code",
   "execution_count": 1,
   "metadata": {},
   "outputs": [],
   "source": [
    "import pandas as pd\n",
    "import numpy as np"
   ]
  },
  {
   "cell_type": "code",
   "execution_count": 2,
   "metadata": {},
   "outputs": [],
   "source": [
    "data1 = pd.read_csv('Customer_DF.csv')\n",
    "data2 = pd.read_csv('cust_transaction_details.csv')"
   ]
  },
  {
   "cell_type": "code",
   "execution_count": 3,
   "metadata": {},
   "outputs": [],
   "source": [
    "#this code is just to make the copy of the dataset \n",
    "data_copy_1 = pd.read_csv('Customer_DF.csv')\n",
    "data_copy_2 = pd.read_csv('cust_transaction_details.csv')"
   ]
  },
  {
   "cell_type": "code",
   "execution_count": 4,
   "metadata": {},
   "outputs": [
    {
     "data": {
      "text/html": [
       "<div>\n",
       "<style scoped>\n",
       "    .dataframe tbody tr th:only-of-type {\n",
       "        vertical-align: middle;\n",
       "    }\n",
       "\n",
       "    .dataframe tbody tr th {\n",
       "        vertical-align: top;\n",
       "    }\n",
       "\n",
       "    .dataframe thead th {\n",
       "        text-align: right;\n",
       "    }\n",
       "</style>\n",
       "<table border=\"1\" class=\"dataframe\">\n",
       "  <thead>\n",
       "    <tr style=\"text-align: right;\">\n",
       "      <th></th>\n",
       "      <th>Unnamed: 0</th>\n",
       "      <th>customerEmail</th>\n",
       "      <th>customerPhone</th>\n",
       "      <th>customerDevice</th>\n",
       "      <th>customerIPAddress</th>\n",
       "      <th>customerBillingAddress</th>\n",
       "      <th>No_Transactions</th>\n",
       "      <th>No_Orders</th>\n",
       "      <th>No_Payments</th>\n",
       "      <th>Fraud</th>\n",
       "    </tr>\n",
       "  </thead>\n",
       "  <tbody>\n",
       "    <tr>\n",
       "      <th>0</th>\n",
       "      <td>0</td>\n",
       "      <td>josephhoward@yahoo.com</td>\n",
       "      <td>400-108-5415</td>\n",
       "      <td>yyeiaxpltf82440jnb3v</td>\n",
       "      <td>8.129.104.40</td>\n",
       "      <td>5493 Jones Islands\\nBrownside, CA 51896</td>\n",
       "      <td>2</td>\n",
       "      <td>2</td>\n",
       "      <td>1</td>\n",
       "      <td>False</td>\n",
       "    </tr>\n",
       "    <tr>\n",
       "      <th>1</th>\n",
       "      <td>1</td>\n",
       "      <td>evansjeffery@yahoo.com</td>\n",
       "      <td>1-788-091-7546</td>\n",
       "      <td>r0jpm7xaeqqa3kr6mzum</td>\n",
       "      <td>219.173.211.202</td>\n",
       "      <td>356 Elizabeth Inlet Suite 120\\nPort Joshuabury...</td>\n",
       "      <td>3</td>\n",
       "      <td>3</td>\n",
       "      <td>7</td>\n",
       "      <td>True</td>\n",
       "    </tr>\n",
       "    <tr>\n",
       "      <th>2</th>\n",
       "      <td>2</td>\n",
       "      <td>andersonwilliam@yahoo.com</td>\n",
       "      <td>024.420.0375</td>\n",
       "      <td>4m7h5ipl1shyavt6vv2r</td>\n",
       "      <td>67b7:3db8:67e0:3bea:b9d0:90c1:2b60:b9f0</td>\n",
       "      <td>8478 Sean Ridges Apt. 441\\nDavisberg, PR 72250</td>\n",
       "      <td>5</td>\n",
       "      <td>3</td>\n",
       "      <td>2</td>\n",
       "      <td>False</td>\n",
       "    </tr>\n",
       "    <tr>\n",
       "      <th>3</th>\n",
       "      <td>3</td>\n",
       "      <td>rubenjuarez@yahoo.com</td>\n",
       "      <td>670.664.8168x94985</td>\n",
       "      <td>slovx60t0i558may4ks0</td>\n",
       "      <td>95de:8565:5a66:792c:26e0:6cfb:7d87:11af</td>\n",
       "      <td>7769 Elizabeth Bridge Apt. 343\\nNortonstad, FM...</td>\n",
       "      <td>3</td>\n",
       "      <td>3</td>\n",
       "      <td>1</td>\n",
       "      <td>False</td>\n",
       "    </tr>\n",
       "    <tr>\n",
       "      <th>4</th>\n",
       "      <td>4</td>\n",
       "      <td>uchen@malone.com</td>\n",
       "      <td>1-981-877-0870</td>\n",
       "      <td>j0pd24k5h8dl2fqu0cz4</td>\n",
       "      <td>196.89.235.192</td>\n",
       "      <td>148 Russell Lodge Apt. 445\\nPort Jenniferside,...</td>\n",
       "      <td>7</td>\n",
       "      <td>7</td>\n",
       "      <td>6</td>\n",
       "      <td>True</td>\n",
       "    </tr>\n",
       "  </tbody>\n",
       "</table>\n",
       "</div>"
      ],
      "text/plain": [
       "   Unnamed: 0              customerEmail       customerPhone  \\\n",
       "0           0     josephhoward@yahoo.com        400-108-5415   \n",
       "1           1     evansjeffery@yahoo.com      1-788-091-7546   \n",
       "2           2  andersonwilliam@yahoo.com        024.420.0375   \n",
       "3           3      rubenjuarez@yahoo.com  670.664.8168x94985   \n",
       "4           4           uchen@malone.com      1-981-877-0870   \n",
       "\n",
       "         customerDevice                        customerIPAddress  \\\n",
       "0  yyeiaxpltf82440jnb3v                             8.129.104.40   \n",
       "1  r0jpm7xaeqqa3kr6mzum                          219.173.211.202   \n",
       "2  4m7h5ipl1shyavt6vv2r  67b7:3db8:67e0:3bea:b9d0:90c1:2b60:b9f0   \n",
       "3  slovx60t0i558may4ks0  95de:8565:5a66:792c:26e0:6cfb:7d87:11af   \n",
       "4  j0pd24k5h8dl2fqu0cz4                           196.89.235.192   \n",
       "\n",
       "                              customerBillingAddress  No_Transactions  \\\n",
       "0            5493 Jones Islands\\nBrownside, CA 51896                2   \n",
       "1  356 Elizabeth Inlet Suite 120\\nPort Joshuabury...                3   \n",
       "2     8478 Sean Ridges Apt. 441\\nDavisberg, PR 72250                5   \n",
       "3  7769 Elizabeth Bridge Apt. 343\\nNortonstad, FM...                3   \n",
       "4  148 Russell Lodge Apt. 445\\nPort Jenniferside,...                7   \n",
       "\n",
       "   No_Orders  No_Payments  Fraud  \n",
       "0          2            1  False  \n",
       "1          3            7   True  \n",
       "2          3            2  False  \n",
       "3          3            1  False  \n",
       "4          7            6   True  "
      ]
     },
     "execution_count": 4,
     "metadata": {},
     "output_type": "execute_result"
    }
   ],
   "source": [
    "data1.head()"
   ]
  },
  {
   "cell_type": "code",
   "execution_count": 5,
   "metadata": {},
   "outputs": [
    {
     "data": {
      "text/html": [
       "<div>\n",
       "<style scoped>\n",
       "    .dataframe tbody tr th:only-of-type {\n",
       "        vertical-align: middle;\n",
       "    }\n",
       "\n",
       "    .dataframe tbody tr th {\n",
       "        vertical-align: top;\n",
       "    }\n",
       "\n",
       "    .dataframe thead th {\n",
       "        text-align: right;\n",
       "    }\n",
       "</style>\n",
       "<table border=\"1\" class=\"dataframe\">\n",
       "  <thead>\n",
       "    <tr style=\"text-align: right;\">\n",
       "      <th></th>\n",
       "      <th>Unnamed: 0</th>\n",
       "      <th>customerEmail</th>\n",
       "      <th>transactionId</th>\n",
       "      <th>orderId</th>\n",
       "      <th>paymentMethodId</th>\n",
       "      <th>paymentMethodRegistrationFailure</th>\n",
       "      <th>paymentMethodType</th>\n",
       "      <th>paymentMethodProvider</th>\n",
       "      <th>transactionAmount</th>\n",
       "      <th>transactionFailed</th>\n",
       "      <th>orderState</th>\n",
       "    </tr>\n",
       "  </thead>\n",
       "  <tbody>\n",
       "    <tr>\n",
       "      <th>0</th>\n",
       "      <td>0</td>\n",
       "      <td>josephhoward@yahoo.com</td>\n",
       "      <td>a9lcj51r</td>\n",
       "      <td>vjbdvd</td>\n",
       "      <td>wt07xm68b</td>\n",
       "      <td>1</td>\n",
       "      <td>card</td>\n",
       "      <td>JCB 16 digit</td>\n",
       "      <td>18</td>\n",
       "      <td>0</td>\n",
       "      <td>pending</td>\n",
       "    </tr>\n",
       "    <tr>\n",
       "      <th>1</th>\n",
       "      <td>1</td>\n",
       "      <td>josephhoward@yahoo.com</td>\n",
       "      <td>y4wcv03i</td>\n",
       "      <td>yp6x27</td>\n",
       "      <td>wt07xm68b</td>\n",
       "      <td>1</td>\n",
       "      <td>card</td>\n",
       "      <td>JCB 16 digit</td>\n",
       "      <td>26</td>\n",
       "      <td>0</td>\n",
       "      <td>fulfilled</td>\n",
       "    </tr>\n",
       "    <tr>\n",
       "      <th>2</th>\n",
       "      <td>2</td>\n",
       "      <td>evansjeffery@yahoo.com</td>\n",
       "      <td>5mi94sfw</td>\n",
       "      <td>nlghpa</td>\n",
       "      <td>41ug157xz</td>\n",
       "      <td>0</td>\n",
       "      <td>bitcoin</td>\n",
       "      <td>American Express</td>\n",
       "      <td>45</td>\n",
       "      <td>0</td>\n",
       "      <td>fulfilled</td>\n",
       "    </tr>\n",
       "    <tr>\n",
       "      <th>3</th>\n",
       "      <td>3</td>\n",
       "      <td>evansjeffery@yahoo.com</td>\n",
       "      <td>br8ba1nu</td>\n",
       "      <td>uw0eeb</td>\n",
       "      <td>41ug157xz</td>\n",
       "      <td>0</td>\n",
       "      <td>bitcoin</td>\n",
       "      <td>American Express</td>\n",
       "      <td>23</td>\n",
       "      <td>0</td>\n",
       "      <td>fulfilled</td>\n",
       "    </tr>\n",
       "    <tr>\n",
       "      <th>4</th>\n",
       "      <td>4</td>\n",
       "      <td>evansjeffery@yahoo.com</td>\n",
       "      <td>a33145ss</td>\n",
       "      <td>bn44oh</td>\n",
       "      <td>y3xp697jx</td>\n",
       "      <td>1</td>\n",
       "      <td>bitcoin</td>\n",
       "      <td>VISA 16 digit</td>\n",
       "      <td>43</td>\n",
       "      <td>1</td>\n",
       "      <td>fulfilled</td>\n",
       "    </tr>\n",
       "  </tbody>\n",
       "</table>\n",
       "</div>"
      ],
      "text/plain": [
       "   Unnamed: 0           customerEmail transactionId orderId paymentMethodId  \\\n",
       "0           0  josephhoward@yahoo.com      a9lcj51r  vjbdvd       wt07xm68b   \n",
       "1           1  josephhoward@yahoo.com      y4wcv03i  yp6x27       wt07xm68b   \n",
       "2           2  evansjeffery@yahoo.com      5mi94sfw  nlghpa       41ug157xz   \n",
       "3           3  evansjeffery@yahoo.com      br8ba1nu  uw0eeb       41ug157xz   \n",
       "4           4  evansjeffery@yahoo.com      a33145ss  bn44oh       y3xp697jx   \n",
       "\n",
       "   paymentMethodRegistrationFailure paymentMethodType paymentMethodProvider  \\\n",
       "0                                 1              card          JCB 16 digit   \n",
       "1                                 1              card          JCB 16 digit   \n",
       "2                                 0           bitcoin      American Express   \n",
       "3                                 0           bitcoin      American Express   \n",
       "4                                 1           bitcoin         VISA 16 digit   \n",
       "\n",
       "   transactionAmount  transactionFailed orderState  \n",
       "0                 18                  0    pending  \n",
       "1                 26                  0  fulfilled  \n",
       "2                 45                  0  fulfilled  \n",
       "3                 23                  0  fulfilled  \n",
       "4                 43                  1  fulfilled  "
      ]
     },
     "execution_count": 5,
     "metadata": {},
     "output_type": "execute_result"
    }
   ],
   "source": [
    "data2.head()"
   ]
  },
  {
   "cell_type": "markdown",
   "metadata": {},
   "source": [
    "Checking whether if they are some null values"
   ]
  },
  {
   "cell_type": "code",
   "execution_count": 6,
   "metadata": {},
   "outputs": [
    {
     "data": {
      "text/plain": [
       "Unnamed: 0                0\n",
       "customerEmail             0\n",
       "customerPhone             0\n",
       "customerDevice            0\n",
       "customerIPAddress         0\n",
       "customerBillingAddress    0\n",
       "No_Transactions           0\n",
       "No_Orders                 0\n",
       "No_Payments               0\n",
       "Fraud                     0\n",
       "dtype: int64"
      ]
     },
     "execution_count": 6,
     "metadata": {},
     "output_type": "execute_result"
    }
   ],
   "source": [
    "data1.isnull().sum()"
   ]
  },
  {
   "cell_type": "code",
   "execution_count": 7,
   "metadata": {},
   "outputs": [
    {
     "data": {
      "text/plain": [
       "Unnamed: 0                          0\n",
       "customerEmail                       0\n",
       "transactionId                       0\n",
       "orderId                             0\n",
       "paymentMethodId                     0\n",
       "paymentMethodRegistrationFailure    0\n",
       "paymentMethodType                   0\n",
       "paymentMethodProvider               0\n",
       "transactionAmount                   0\n",
       "transactionFailed                   0\n",
       "orderState                          0\n",
       "dtype: int64"
      ]
     },
     "execution_count": 7,
     "metadata": {},
     "output_type": "execute_result"
    }
   ],
   "source": [
    "data2.isnull().sum()"
   ]
  },
  {
   "cell_type": "markdown",
   "metadata": {},
   "source": [
    "Printing the columns of both the table"
   ]
  },
  {
   "cell_type": "code",
   "execution_count": 8,
   "metadata": {},
   "outputs": [
    {
     "data": {
      "text/plain": [
       "Index(['Unnamed: 0', 'customerEmail', 'customerPhone', 'customerDevice',\n",
       "       'customerIPAddress', 'customerBillingAddress', 'No_Transactions',\n",
       "       'No_Orders', 'No_Payments', 'Fraud'],\n",
       "      dtype='object')"
      ]
     },
     "execution_count": 8,
     "metadata": {},
     "output_type": "execute_result"
    }
   ],
   "source": [
    "data1.columns"
   ]
  },
  {
   "cell_type": "code",
   "execution_count": 9,
   "metadata": {},
   "outputs": [
    {
     "data": {
      "text/plain": [
       "Index(['Unnamed: 0', 'customerEmail', 'transactionId', 'orderId',\n",
       "       'paymentMethodId', 'paymentMethodRegistrationFailure',\n",
       "       'paymentMethodType', 'paymentMethodProvider', 'transactionAmount',\n",
       "       'transactionFailed', 'orderState'],\n",
       "      dtype='object')"
      ]
     },
     "execution_count": 9,
     "metadata": {},
     "output_type": "execute_result"
    }
   ],
   "source": [
    "data2.columns"
   ]
  },
  {
   "cell_type": "markdown",
   "metadata": {},
   "source": [
    "Shape of the datasets"
   ]
  },
  {
   "cell_type": "code",
   "execution_count": 10,
   "metadata": {},
   "outputs": [
    {
     "data": {
      "text/plain": [
       "(168, 10)"
      ]
     },
     "execution_count": 10,
     "metadata": {},
     "output_type": "execute_result"
    }
   ],
   "source": [
    "data1.shape"
   ]
  },
  {
   "cell_type": "code",
   "execution_count": 11,
   "metadata": {},
   "outputs": [
    {
     "data": {
      "text/plain": [
       "(623, 11)"
      ]
     },
     "execution_count": 11,
     "metadata": {},
     "output_type": "execute_result"
    }
   ],
   "source": [
    "data2.shape"
   ]
  },
  {
   "cell_type": "code",
   "execution_count": 12,
   "metadata": {},
   "outputs": [
    {
     "name": "stdout",
     "output_type": "stream",
     "text": [
      "total customers records 168 and total unique customers 161\n"
     ]
    }
   ],
   "source": [
    "print('total customers records',data1.shape[0], 'and total unique customers',len(data1.customerEmail.unique())) "
   ]
  },
  {
   "cell_type": "markdown",
   "metadata": {},
   "source": [
    "Duplicates customersEmail ID's are...."
   ]
  },
  {
   "cell_type": "code",
   "execution_count": 13,
   "metadata": {},
   "outputs": [
    {
     "data": {
      "text/html": [
       "<div>\n",
       "<style scoped>\n",
       "    .dataframe tbody tr th:only-of-type {\n",
       "        vertical-align: middle;\n",
       "    }\n",
       "\n",
       "    .dataframe tbody tr th {\n",
       "        vertical-align: top;\n",
       "    }\n",
       "\n",
       "    .dataframe thead th {\n",
       "        text-align: right;\n",
       "    }\n",
       "</style>\n",
       "<table border=\"1\" class=\"dataframe\">\n",
       "  <thead>\n",
       "    <tr style=\"text-align: right;\">\n",
       "      <th></th>\n",
       "      <th>Unnamed: 0</th>\n",
       "      <th>customerEmail</th>\n",
       "      <th>customerPhone</th>\n",
       "      <th>customerDevice</th>\n",
       "      <th>customerIPAddress</th>\n",
       "      <th>customerBillingAddress</th>\n",
       "      <th>No_Transactions</th>\n",
       "      <th>No_Orders</th>\n",
       "      <th>No_Payments</th>\n",
       "      <th>Fraud</th>\n",
       "    </tr>\n",
       "  </thead>\n",
       "  <tbody>\n",
       "    <tr>\n",
       "      <th>40</th>\n",
       "      <td>40</td>\n",
       "      <td>johnlowery@gmail.com</td>\n",
       "      <td>737-377-9701x577</td>\n",
       "      <td>jz66ap43id2y35ivfqa5</td>\n",
       "      <td>6c21:ac1d:2089:68fa:abb7:8c00:525f:6588</td>\n",
       "      <td>08238 Kyle Squares Suite 893\\nMillermouth, IN ...</td>\n",
       "      <td>0</td>\n",
       "      <td>0</td>\n",
       "      <td>1</td>\n",
       "      <td>True</td>\n",
       "    </tr>\n",
       "    <tr>\n",
       "      <th>45</th>\n",
       "      <td>45</td>\n",
       "      <td>johnlowery@gmail.com</td>\n",
       "      <td>+16(4)9016414340</td>\n",
       "      <td>cdx178qymd6vy77nm4x3</td>\n",
       "      <td>222.79.159.140</td>\n",
       "      <td>77711 Pamela Ridge\\nNew Kayla, IL 27182</td>\n",
       "      <td>3</td>\n",
       "      <td>2</td>\n",
       "      <td>1</td>\n",
       "      <td>True</td>\n",
       "    </tr>\n",
       "    <tr>\n",
       "      <th>65</th>\n",
       "      <td>65</td>\n",
       "      <td>johnlowery@gmail.com</td>\n",
       "      <td>4712252182</td>\n",
       "      <td>311kdz4c1210iixltk2j</td>\n",
       "      <td>42b3:df19:86fe:abd9:dafe:f6c1:eb76:c72</td>\n",
       "      <td>11704 Andrew Villages Apt. 035\\nJamesfurt, OR ...</td>\n",
       "      <td>7</td>\n",
       "      <td>5</td>\n",
       "      <td>1</td>\n",
       "      <td>True</td>\n",
       "    </tr>\n",
       "    <tr>\n",
       "      <th>79</th>\n",
       "      <td>79</td>\n",
       "      <td>johnlowery@gmail.com</td>\n",
       "      <td>1-820-539-4726x993</td>\n",
       "      <td>2in0fh7lep289n8dcbdz</td>\n",
       "      <td>163.128.139.42</td>\n",
       "      <td>814 Wagner Union\\nAshleymouth, HI 35617</td>\n",
       "      <td>2</td>\n",
       "      <td>2</td>\n",
       "      <td>1</td>\n",
       "      <td>True</td>\n",
       "    </tr>\n",
       "    <tr>\n",
       "      <th>133</th>\n",
       "      <td>133</td>\n",
       "      <td>johnlowery@gmail.com</td>\n",
       "      <td>1-143-059-1833</td>\n",
       "      <td>tyijaify2hqadwslejyr</td>\n",
       "      <td>e4c:fb48:8ee2:9819:6ae8:8d3f:3b6a:a788</td>\n",
       "      <td>518 Wood Mews Apt. 970\\nDillonstad, NE 43317-3945</td>\n",
       "      <td>0</td>\n",
       "      <td>0</td>\n",
       "      <td>0</td>\n",
       "      <td>True</td>\n",
       "    </tr>\n",
       "    <tr>\n",
       "      <th>155</th>\n",
       "      <td>155</td>\n",
       "      <td>johnlowery@gmail.com</td>\n",
       "      <td>076-099-0630x72770</td>\n",
       "      <td>6qy6oa3nqutsyyxzc54c</td>\n",
       "      <td>f259:657f:f329:2fca:c06c:8b57:d6ac:2380</td>\n",
       "      <td>687 Rogers Bridge Suite 780\\nValdezburgh, IN 2...</td>\n",
       "      <td>6</td>\n",
       "      <td>5</td>\n",
       "      <td>3</td>\n",
       "      <td>True</td>\n",
       "    </tr>\n",
       "    <tr>\n",
       "      <th>165</th>\n",
       "      <td>165</td>\n",
       "      <td>johnlowery@gmail.com</td>\n",
       "      <td>635.676.0955x524</td>\n",
       "      <td>969zz9zdj8z4gns4sx5p</td>\n",
       "      <td>f82c:811f:8a02:e2d6:79b:fcaa:42de:570b</td>\n",
       "      <td>548 Bryant Inlet\\nVeronicaside, OK 00522</td>\n",
       "      <td>4</td>\n",
       "      <td>4</td>\n",
       "      <td>2</td>\n",
       "      <td>True</td>\n",
       "    </tr>\n",
       "  </tbody>\n",
       "</table>\n",
       "</div>"
      ],
      "text/plain": [
       "     Unnamed: 0         customerEmail       customerPhone  \\\n",
       "40           40  johnlowery@gmail.com    737-377-9701x577   \n",
       "45           45  johnlowery@gmail.com    +16(4)9016414340   \n",
       "65           65  johnlowery@gmail.com          4712252182   \n",
       "79           79  johnlowery@gmail.com  1-820-539-4726x993   \n",
       "133         133  johnlowery@gmail.com      1-143-059-1833   \n",
       "155         155  johnlowery@gmail.com  076-099-0630x72770   \n",
       "165         165  johnlowery@gmail.com    635.676.0955x524   \n",
       "\n",
       "           customerDevice                        customerIPAddress  \\\n",
       "40   jz66ap43id2y35ivfqa5  6c21:ac1d:2089:68fa:abb7:8c00:525f:6588   \n",
       "45   cdx178qymd6vy77nm4x3                           222.79.159.140   \n",
       "65   311kdz4c1210iixltk2j   42b3:df19:86fe:abd9:dafe:f6c1:eb76:c72   \n",
       "79   2in0fh7lep289n8dcbdz                           163.128.139.42   \n",
       "133  tyijaify2hqadwslejyr   e4c:fb48:8ee2:9819:6ae8:8d3f:3b6a:a788   \n",
       "155  6qy6oa3nqutsyyxzc54c  f259:657f:f329:2fca:c06c:8b57:d6ac:2380   \n",
       "165  969zz9zdj8z4gns4sx5p   f82c:811f:8a02:e2d6:79b:fcaa:42de:570b   \n",
       "\n",
       "                                customerBillingAddress  No_Transactions  \\\n",
       "40   08238 Kyle Squares Suite 893\\nMillermouth, IN ...                0   \n",
       "45             77711 Pamela Ridge\\nNew Kayla, IL 27182                3   \n",
       "65   11704 Andrew Villages Apt. 035\\nJamesfurt, OR ...                7   \n",
       "79             814 Wagner Union\\nAshleymouth, HI 35617                2   \n",
       "133  518 Wood Mews Apt. 970\\nDillonstad, NE 43317-3945                0   \n",
       "155  687 Rogers Bridge Suite 780\\nValdezburgh, IN 2...                6   \n",
       "165           548 Bryant Inlet\\nVeronicaside, OK 00522                4   \n",
       "\n",
       "     No_Orders  No_Payments  Fraud  \n",
       "40           0            1   True  \n",
       "45           2            1   True  \n",
       "65           5            1   True  \n",
       "79           2            1   True  \n",
       "133          0            0   True  \n",
       "155          5            3   True  \n",
       "165          4            2   True  "
      ]
     },
     "execution_count": 13,
     "metadata": {},
     "output_type": "execute_result"
    }
   ],
   "source": [
    "data1[data1['customerEmail'].duplicated()]"
   ]
  },
  {
   "cell_type": "markdown",
   "metadata": {},
   "source": [
    "We see that all the records that are duplicated are fraudulent"
   ]
  },
  {
   "cell_type": "markdown",
   "metadata": {},
   "source": [
    "So now our job is to remove all the duplicate entries from the dataset"
   ]
  },
  {
   "cell_type": "code",
   "execution_count": 14,
   "metadata": {},
   "outputs": [],
   "source": [
    "data2=data2.drop([\"transactionId\",\"transactionId\",\"paymentMethodId\",\"orderId\",\"Unnamed: 0\"],axis=1)"
   ]
  },
  {
   "cell_type": "code",
   "execution_count": 15,
   "metadata": {},
   "outputs": [],
   "source": [
    "#filtering the email if their is \".\" present in them\n",
    "data2[\"customerEmail\"]=data2.apply(lambda x:x.customerEmail if(\".\" in x.customerEmail) else \"f\",axis=1)"
   ]
  },
  {
   "cell_type": "code",
   "execution_count": 16,
   "metadata": {},
   "outputs": [],
   "source": [
    "#setting customerEmail as the index of the dataframe\n",
    "data2 = data2.set_index(\"customerEmail\")"
   ]
  },
  {
   "cell_type": "code",
   "execution_count": 17,
   "metadata": {},
   "outputs": [],
   "source": [
    "#dropping the email which does not have '.' in them\n",
    "data2=data2.drop(\"f\",axis=0)"
   ]
  },
  {
   "cell_type": "code",
   "execution_count": 18,
   "metadata": {},
   "outputs": [],
   "source": [
    "#taking out the mean of the customerEmail to avoid duplicates\n",
    "n1=data2.groupby(\"customerEmail\")[\"paymentMethodRegistrationFailure\"].mean().astype(int)"
   ]
  },
  {
   "cell_type": "code",
   "execution_count": 19,
   "metadata": {},
   "outputs": [],
   "source": [
    "n2=data2.groupby(\"customerEmail\")[\"transactionAmount\"].mean().astype(int)\n",
    "n3=data2.groupby(\"customerEmail\")[\"transactionFailed\"].mean().astype(int)"
   ]
  },
  {
   "cell_type": "code",
   "execution_count": 20,
   "metadata": {},
   "outputs": [],
   "source": [
    "data2=data2.drop([\"transactionFailed\",\"transactionAmount\",\"paymentMethodRegistrationFailure\"],axis=1)"
   ]
  },
  {
   "cell_type": "code",
   "execution_count": 21,
   "metadata": {},
   "outputs": [],
   "source": [
    "data2=data2.drop([\"paymentMethodProvider\"],axis=1)"
   ]
  },
  {
   "cell_type": "code",
   "execution_count": 22,
   "metadata": {},
   "outputs": [
    {
     "data": {
      "text/html": [
       "<div>\n",
       "<style scoped>\n",
       "    .dataframe tbody tr th:only-of-type {\n",
       "        vertical-align: middle;\n",
       "    }\n",
       "\n",
       "    .dataframe tbody tr th {\n",
       "        vertical-align: top;\n",
       "    }\n",
       "\n",
       "    .dataframe thead th {\n",
       "        text-align: right;\n",
       "    }\n",
       "</style>\n",
       "<table border=\"1\" class=\"dataframe\">\n",
       "  <thead>\n",
       "    <tr style=\"text-align: right;\">\n",
       "      <th></th>\n",
       "      <th>paymentMethodType_apple pay</th>\n",
       "      <th>paymentMethodType_bitcoin</th>\n",
       "      <th>paymentMethodType_card</th>\n",
       "      <th>paymentMethodType_paypal</th>\n",
       "      <th>orderState_failed</th>\n",
       "      <th>orderState_fulfilled</th>\n",
       "      <th>orderState_pending</th>\n",
       "    </tr>\n",
       "    <tr>\n",
       "      <th>customerEmail</th>\n",
       "      <th></th>\n",
       "      <th></th>\n",
       "      <th></th>\n",
       "      <th></th>\n",
       "      <th></th>\n",
       "      <th></th>\n",
       "      <th></th>\n",
       "    </tr>\n",
       "  </thead>\n",
       "  <tbody>\n",
       "    <tr>\n",
       "      <th>josephhoward@yahoo.com</th>\n",
       "      <td>0</td>\n",
       "      <td>0</td>\n",
       "      <td>1</td>\n",
       "      <td>0</td>\n",
       "      <td>0</td>\n",
       "      <td>0</td>\n",
       "      <td>1</td>\n",
       "    </tr>\n",
       "    <tr>\n",
       "      <th>josephhoward@yahoo.com</th>\n",
       "      <td>0</td>\n",
       "      <td>0</td>\n",
       "      <td>1</td>\n",
       "      <td>0</td>\n",
       "      <td>0</td>\n",
       "      <td>1</td>\n",
       "      <td>0</td>\n",
       "    </tr>\n",
       "    <tr>\n",
       "      <th>evansjeffery@yahoo.com</th>\n",
       "      <td>0</td>\n",
       "      <td>1</td>\n",
       "      <td>0</td>\n",
       "      <td>0</td>\n",
       "      <td>0</td>\n",
       "      <td>1</td>\n",
       "      <td>0</td>\n",
       "    </tr>\n",
       "    <tr>\n",
       "      <th>evansjeffery@yahoo.com</th>\n",
       "      <td>0</td>\n",
       "      <td>1</td>\n",
       "      <td>0</td>\n",
       "      <td>0</td>\n",
       "      <td>0</td>\n",
       "      <td>1</td>\n",
       "      <td>0</td>\n",
       "    </tr>\n",
       "    <tr>\n",
       "      <th>evansjeffery@yahoo.com</th>\n",
       "      <td>0</td>\n",
       "      <td>1</td>\n",
       "      <td>0</td>\n",
       "      <td>0</td>\n",
       "      <td>0</td>\n",
       "      <td>1</td>\n",
       "      <td>0</td>\n",
       "    </tr>\n",
       "    <tr>\n",
       "      <th>...</th>\n",
       "      <td>...</td>\n",
       "      <td>...</td>\n",
       "      <td>...</td>\n",
       "      <td>...</td>\n",
       "      <td>...</td>\n",
       "      <td>...</td>\n",
       "      <td>...</td>\n",
       "    </tr>\n",
       "    <tr>\n",
       "      <th>dawn05@tucker-brown.com</th>\n",
       "      <td>0</td>\n",
       "      <td>0</td>\n",
       "      <td>1</td>\n",
       "      <td>0</td>\n",
       "      <td>0</td>\n",
       "      <td>1</td>\n",
       "      <td>0</td>\n",
       "    </tr>\n",
       "    <tr>\n",
       "      <th>dawn05@tucker-brown.com</th>\n",
       "      <td>0</td>\n",
       "      <td>0</td>\n",
       "      <td>1</td>\n",
       "      <td>0</td>\n",
       "      <td>0</td>\n",
       "      <td>1</td>\n",
       "      <td>0</td>\n",
       "    </tr>\n",
       "    <tr>\n",
       "      <th>dawn05@tucker-brown.com</th>\n",
       "      <td>0</td>\n",
       "      <td>0</td>\n",
       "      <td>0</td>\n",
       "      <td>1</td>\n",
       "      <td>0</td>\n",
       "      <td>1</td>\n",
       "      <td>0</td>\n",
       "    </tr>\n",
       "    <tr>\n",
       "      <th>dawn05@tucker-brown.com</th>\n",
       "      <td>0</td>\n",
       "      <td>0</td>\n",
       "      <td>0</td>\n",
       "      <td>1</td>\n",
       "      <td>0</td>\n",
       "      <td>1</td>\n",
       "      <td>0</td>\n",
       "    </tr>\n",
       "    <tr>\n",
       "      <th>dawn05@tucker-brown.com</th>\n",
       "      <td>0</td>\n",
       "      <td>0</td>\n",
       "      <td>1</td>\n",
       "      <td>0</td>\n",
       "      <td>0</td>\n",
       "      <td>1</td>\n",
       "      <td>0</td>\n",
       "    </tr>\n",
       "  </tbody>\n",
       "</table>\n",
       "<p>605 rows × 7 columns</p>\n",
       "</div>"
      ],
      "text/plain": [
       "                         paymentMethodType_apple pay  \\\n",
       "customerEmail                                          \n",
       "josephhoward@yahoo.com                             0   \n",
       "josephhoward@yahoo.com                             0   \n",
       "evansjeffery@yahoo.com                             0   \n",
       "evansjeffery@yahoo.com                             0   \n",
       "evansjeffery@yahoo.com                             0   \n",
       "...                                              ...   \n",
       "dawn05@tucker-brown.com                            0   \n",
       "dawn05@tucker-brown.com                            0   \n",
       "dawn05@tucker-brown.com                            0   \n",
       "dawn05@tucker-brown.com                            0   \n",
       "dawn05@tucker-brown.com                            0   \n",
       "\n",
       "                         paymentMethodType_bitcoin  paymentMethodType_card  \\\n",
       "customerEmail                                                                \n",
       "josephhoward@yahoo.com                           0                       1   \n",
       "josephhoward@yahoo.com                           0                       1   \n",
       "evansjeffery@yahoo.com                           1                       0   \n",
       "evansjeffery@yahoo.com                           1                       0   \n",
       "evansjeffery@yahoo.com                           1                       0   \n",
       "...                                            ...                     ...   \n",
       "dawn05@tucker-brown.com                          0                       1   \n",
       "dawn05@tucker-brown.com                          0                       1   \n",
       "dawn05@tucker-brown.com                          0                       0   \n",
       "dawn05@tucker-brown.com                          0                       0   \n",
       "dawn05@tucker-brown.com                          0                       1   \n",
       "\n",
       "                         paymentMethodType_paypal  orderState_failed  \\\n",
       "customerEmail                                                          \n",
       "josephhoward@yahoo.com                          0                  0   \n",
       "josephhoward@yahoo.com                          0                  0   \n",
       "evansjeffery@yahoo.com                          0                  0   \n",
       "evansjeffery@yahoo.com                          0                  0   \n",
       "evansjeffery@yahoo.com                          0                  0   \n",
       "...                                           ...                ...   \n",
       "dawn05@tucker-brown.com                         0                  0   \n",
       "dawn05@tucker-brown.com                         0                  0   \n",
       "dawn05@tucker-brown.com                         1                  0   \n",
       "dawn05@tucker-brown.com                         1                  0   \n",
       "dawn05@tucker-brown.com                         0                  0   \n",
       "\n",
       "                         orderState_fulfilled  orderState_pending  \n",
       "customerEmail                                                      \n",
       "josephhoward@yahoo.com                      0                   1  \n",
       "josephhoward@yahoo.com                      1                   0  \n",
       "evansjeffery@yahoo.com                      1                   0  \n",
       "evansjeffery@yahoo.com                      1                   0  \n",
       "evansjeffery@yahoo.com                      1                   0  \n",
       "...                                       ...                 ...  \n",
       "dawn05@tucker-brown.com                     1                   0  \n",
       "dawn05@tucker-brown.com                     1                   0  \n",
       "dawn05@tucker-brown.com                     1                   0  \n",
       "dawn05@tucker-brown.com                     1                   0  \n",
       "dawn05@tucker-brown.com                     1                   0  \n",
       "\n",
       "[605 rows x 7 columns]"
      ]
     },
     "execution_count": 22,
     "metadata": {},
     "output_type": "execute_result"
    }
   ],
   "source": [
    "#creating dummy variables for the dataset\n",
    "data2= pd.get_dummies(data2)\n",
    "data2"
   ]
  },
  {
   "cell_type": "code",
   "execution_count": 23,
   "metadata": {},
   "outputs": [],
   "source": [
    "m1=data2.groupby(\"customerEmail\")[\"orderState_failed\"].mean().astype(int)\n",
    "m2=data2.groupby(\"customerEmail\")[\"orderState_fulfilled\"].mean().astype(int)\n",
    "m3=data2.groupby(\"customerEmail\")[\"orderState_pending\"].mean().astype(int)"
   ]
  },
  {
   "cell_type": "code",
   "execution_count": 24,
   "metadata": {},
   "outputs": [],
   "source": [
    "l1=data2.groupby(\"customerEmail\")[\"paymentMethodType_card\"].mean().astype(int)\n",
    "l2=data2.groupby(\"customerEmail\")[\"paymentMethodType_paypal\"].mean().astype(int)\n",
    "l3=data2.groupby(\"customerEmail\")[\"paymentMethodType_apple pay\"].mean().astype(int)\n",
    "l4=data2.groupby(\"customerEmail\")[\"paymentMethodType_bitcoin\"].mean().astype(int)"
   ]
  },
  {
   "cell_type": "code",
   "execution_count": 25,
   "metadata": {},
   "outputs": [],
   "source": [
    "#concatenating the variables after removing duplicates\n",
    "nresult = pd.concat([m1,m2,m3,l1,l2,l3,l4,n1,n2,n3], axis=1, join='inner')"
   ]
  },
  {
   "cell_type": "code",
   "execution_count": 26,
   "metadata": {},
   "outputs": [],
   "source": [
    "data1=data1.drop([\"customerPhone\",\"customerDevice\",\"customerIPAddress\",\"customerBillingAddress\",\"Unnamed: 0\"],axis=1)"
   ]
  },
  {
   "cell_type": "code",
   "execution_count": 27,
   "metadata": {},
   "outputs": [],
   "source": [
    "#converting the target variable from bool to int for the creation of dummy variable\n",
    "data1['Fraud'] = data1['Fraud'].astype(int)"
   ]
  },
  {
   "cell_type": "code",
   "execution_count": 28,
   "metadata": {},
   "outputs": [],
   "source": [
    "#merging both the datasets into single object called result\n",
    "result = pd.merge(data1,nresult, on='customerEmail')"
   ]
  },
  {
   "cell_type": "code",
   "execution_count": 29,
   "metadata": {},
   "outputs": [
    {
     "data": {
      "text/plain": [
       "customerEmail                       0\n",
       "No_Transactions                     0\n",
       "No_Orders                           0\n",
       "No_Payments                         0\n",
       "Fraud                               0\n",
       "orderState_failed                   0\n",
       "orderState_fulfilled                0\n",
       "orderState_pending                  0\n",
       "paymentMethodType_card              0\n",
       "paymentMethodType_paypal            0\n",
       "paymentMethodType_apple pay         0\n",
       "paymentMethodType_bitcoin           0\n",
       "paymentMethodRegistrationFailure    0\n",
       "transactionAmount                   0\n",
       "transactionFailed                   0\n",
       "dtype: int64"
      ]
     },
     "execution_count": 29,
     "metadata": {},
     "output_type": "execute_result"
    }
   ],
   "source": [
    "result.isnull().sum()"
   ]
  },
  {
   "cell_type": "code",
   "execution_count": 30,
   "metadata": {},
   "outputs": [
    {
     "data": {
      "text/plain": [
       "133"
      ]
     },
     "execution_count": 30,
     "metadata": {},
     "output_type": "execute_result"
    }
   ],
   "source": [
    "#unique email id's in result dataset\n",
    "len(result[\"customerEmail\"].unique())"
   ]
  },
  {
   "cell_type": "code",
   "execution_count": 31,
   "metadata": {},
   "outputs": [],
   "source": [
    "#dropping the email id as it is of no use now for simplicity\n",
    "result=result.drop([\"customerEmail\"],axis=1)"
   ]
  },
  {
   "cell_type": "code",
   "execution_count": 32,
   "metadata": {},
   "outputs": [
    {
     "data": {
      "text/plain": [
       "Index(['No_Transactions', 'No_Orders', 'No_Payments', 'Fraud',\n",
       "       'orderState_failed', 'orderState_fulfilled', 'orderState_pending',\n",
       "       'paymentMethodType_card', 'paymentMethodType_paypal',\n",
       "       'paymentMethodType_apple pay', 'paymentMethodType_bitcoin',\n",
       "       'paymentMethodRegistrationFailure', 'transactionAmount',\n",
       "       'transactionFailed'],\n",
       "      dtype='object')"
      ]
     },
     "execution_count": 32,
     "metadata": {},
     "output_type": "execute_result"
    }
   ],
   "source": [
    "result.columns"
   ]
  },
  {
   "cell_type": "code",
   "execution_count": 33,
   "metadata": {
    "scrolled": true
   },
   "outputs": [
    {
     "data": {
      "text/html": [
       "<div>\n",
       "<style scoped>\n",
       "    .dataframe tbody tr th:only-of-type {\n",
       "        vertical-align: middle;\n",
       "    }\n",
       "\n",
       "    .dataframe tbody tr th {\n",
       "        vertical-align: top;\n",
       "    }\n",
       "\n",
       "    .dataframe thead th {\n",
       "        text-align: right;\n",
       "    }\n",
       "</style>\n",
       "<table border=\"1\" class=\"dataframe\">\n",
       "  <thead>\n",
       "    <tr style=\"text-align: right;\">\n",
       "      <th></th>\n",
       "      <th>No_Transactions</th>\n",
       "      <th>No_Orders</th>\n",
       "      <th>No_Payments</th>\n",
       "      <th>Fraud</th>\n",
       "      <th>orderState_failed</th>\n",
       "      <th>orderState_fulfilled</th>\n",
       "      <th>orderState_pending</th>\n",
       "      <th>paymentMethodType_card</th>\n",
       "      <th>paymentMethodType_paypal</th>\n",
       "      <th>paymentMethodType_apple pay</th>\n",
       "      <th>paymentMethodType_bitcoin</th>\n",
       "      <th>paymentMethodRegistrationFailure</th>\n",
       "      <th>transactionAmount</th>\n",
       "      <th>transactionFailed</th>\n",
       "    </tr>\n",
       "  </thead>\n",
       "  <tbody>\n",
       "    <tr>\n",
       "      <th>0</th>\n",
       "      <td>2</td>\n",
       "      <td>2</td>\n",
       "      <td>1</td>\n",
       "      <td>0</td>\n",
       "      <td>0</td>\n",
       "      <td>0</td>\n",
       "      <td>0</td>\n",
       "      <td>1</td>\n",
       "      <td>0</td>\n",
       "      <td>0</td>\n",
       "      <td>0</td>\n",
       "      <td>1</td>\n",
       "      <td>22</td>\n",
       "      <td>0</td>\n",
       "    </tr>\n",
       "    <tr>\n",
       "      <th>1</th>\n",
       "      <td>3</td>\n",
       "      <td>3</td>\n",
       "      <td>7</td>\n",
       "      <td>1</td>\n",
       "      <td>0</td>\n",
       "      <td>1</td>\n",
       "      <td>0</td>\n",
       "      <td>0</td>\n",
       "      <td>0</td>\n",
       "      <td>0</td>\n",
       "      <td>1</td>\n",
       "      <td>0</td>\n",
       "      <td>37</td>\n",
       "      <td>0</td>\n",
       "    </tr>\n",
       "    <tr>\n",
       "      <th>2</th>\n",
       "      <td>5</td>\n",
       "      <td>3</td>\n",
       "      <td>2</td>\n",
       "      <td>0</td>\n",
       "      <td>0</td>\n",
       "      <td>0</td>\n",
       "      <td>0</td>\n",
       "      <td>1</td>\n",
       "      <td>0</td>\n",
       "      <td>0</td>\n",
       "      <td>0</td>\n",
       "      <td>0</td>\n",
       "      <td>26</td>\n",
       "      <td>0</td>\n",
       "    </tr>\n",
       "    <tr>\n",
       "      <th>3</th>\n",
       "      <td>3</td>\n",
       "      <td>3</td>\n",
       "      <td>1</td>\n",
       "      <td>0</td>\n",
       "      <td>0</td>\n",
       "      <td>1</td>\n",
       "      <td>0</td>\n",
       "      <td>1</td>\n",
       "      <td>0</td>\n",
       "      <td>0</td>\n",
       "      <td>0</td>\n",
       "      <td>0</td>\n",
       "      <td>28</td>\n",
       "      <td>0</td>\n",
       "    </tr>\n",
       "    <tr>\n",
       "      <th>4</th>\n",
       "      <td>7</td>\n",
       "      <td>7</td>\n",
       "      <td>6</td>\n",
       "      <td>1</td>\n",
       "      <td>0</td>\n",
       "      <td>0</td>\n",
       "      <td>0</td>\n",
       "      <td>0</td>\n",
       "      <td>0</td>\n",
       "      <td>0</td>\n",
       "      <td>0</td>\n",
       "      <td>0</td>\n",
       "      <td>58</td>\n",
       "      <td>0</td>\n",
       "    </tr>\n",
       "    <tr>\n",
       "      <th>...</th>\n",
       "      <td>...</td>\n",
       "      <td>...</td>\n",
       "      <td>...</td>\n",
       "      <td>...</td>\n",
       "      <td>...</td>\n",
       "      <td>...</td>\n",
       "      <td>...</td>\n",
       "      <td>...</td>\n",
       "      <td>...</td>\n",
       "      <td>...</td>\n",
       "      <td>...</td>\n",
       "      <td>...</td>\n",
       "      <td>...</td>\n",
       "      <td>...</td>\n",
       "    </tr>\n",
       "    <tr>\n",
       "      <th>135</th>\n",
       "      <td>3</td>\n",
       "      <td>2</td>\n",
       "      <td>1</td>\n",
       "      <td>0</td>\n",
       "      <td>0</td>\n",
       "      <td>1</td>\n",
       "      <td>0</td>\n",
       "      <td>0</td>\n",
       "      <td>0</td>\n",
       "      <td>1</td>\n",
       "      <td>0</td>\n",
       "      <td>0</td>\n",
       "      <td>36</td>\n",
       "      <td>0</td>\n",
       "    </tr>\n",
       "    <tr>\n",
       "      <th>136</th>\n",
       "      <td>3</td>\n",
       "      <td>3</td>\n",
       "      <td>1</td>\n",
       "      <td>1</td>\n",
       "      <td>0</td>\n",
       "      <td>0</td>\n",
       "      <td>0</td>\n",
       "      <td>1</td>\n",
       "      <td>0</td>\n",
       "      <td>0</td>\n",
       "      <td>0</td>\n",
       "      <td>0</td>\n",
       "      <td>42</td>\n",
       "      <td>0</td>\n",
       "    </tr>\n",
       "    <tr>\n",
       "      <th>137</th>\n",
       "      <td>6</td>\n",
       "      <td>5</td>\n",
       "      <td>3</td>\n",
       "      <td>1</td>\n",
       "      <td>0</td>\n",
       "      <td>1</td>\n",
       "      <td>0</td>\n",
       "      <td>1</td>\n",
       "      <td>0</td>\n",
       "      <td>0</td>\n",
       "      <td>0</td>\n",
       "      <td>0</td>\n",
       "      <td>24</td>\n",
       "      <td>0</td>\n",
       "    </tr>\n",
       "    <tr>\n",
       "      <th>138</th>\n",
       "      <td>8</td>\n",
       "      <td>6</td>\n",
       "      <td>6</td>\n",
       "      <td>1</td>\n",
       "      <td>0</td>\n",
       "      <td>0</td>\n",
       "      <td>0</td>\n",
       "      <td>0</td>\n",
       "      <td>0</td>\n",
       "      <td>0</td>\n",
       "      <td>0</td>\n",
       "      <td>0</td>\n",
       "      <td>47</td>\n",
       "      <td>0</td>\n",
       "    </tr>\n",
       "    <tr>\n",
       "      <th>139</th>\n",
       "      <td>7</td>\n",
       "      <td>5</td>\n",
       "      <td>4</td>\n",
       "      <td>0</td>\n",
       "      <td>0</td>\n",
       "      <td>1</td>\n",
       "      <td>0</td>\n",
       "      <td>0</td>\n",
       "      <td>0</td>\n",
       "      <td>0</td>\n",
       "      <td>0</td>\n",
       "      <td>0</td>\n",
       "      <td>25</td>\n",
       "      <td>0</td>\n",
       "    </tr>\n",
       "  </tbody>\n",
       "</table>\n",
       "<p>140 rows × 14 columns</p>\n",
       "</div>"
      ],
      "text/plain": [
       "     No_Transactions  No_Orders  No_Payments  Fraud  orderState_failed  \\\n",
       "0                  2          2            1      0                  0   \n",
       "1                  3          3            7      1                  0   \n",
       "2                  5          3            2      0                  0   \n",
       "3                  3          3            1      0                  0   \n",
       "4                  7          7            6      1                  0   \n",
       "..               ...        ...          ...    ...                ...   \n",
       "135                3          2            1      0                  0   \n",
       "136                3          3            1      1                  0   \n",
       "137                6          5            3      1                  0   \n",
       "138                8          6            6      1                  0   \n",
       "139                7          5            4      0                  0   \n",
       "\n",
       "     orderState_fulfilled  orderState_pending  paymentMethodType_card  \\\n",
       "0                       0                   0                       1   \n",
       "1                       1                   0                       0   \n",
       "2                       0                   0                       1   \n",
       "3                       1                   0                       1   \n",
       "4                       0                   0                       0   \n",
       "..                    ...                 ...                     ...   \n",
       "135                     1                   0                       0   \n",
       "136                     0                   0                       1   \n",
       "137                     1                   0                       1   \n",
       "138                     0                   0                       0   \n",
       "139                     1                   0                       0   \n",
       "\n",
       "     paymentMethodType_paypal  paymentMethodType_apple pay  \\\n",
       "0                           0                            0   \n",
       "1                           0                            0   \n",
       "2                           0                            0   \n",
       "3                           0                            0   \n",
       "4                           0                            0   \n",
       "..                        ...                          ...   \n",
       "135                         0                            1   \n",
       "136                         0                            0   \n",
       "137                         0                            0   \n",
       "138                         0                            0   \n",
       "139                         0                            0   \n",
       "\n",
       "     paymentMethodType_bitcoin  paymentMethodRegistrationFailure  \\\n",
       "0                            0                                 1   \n",
       "1                            1                                 0   \n",
       "2                            0                                 0   \n",
       "3                            0                                 0   \n",
       "4                            0                                 0   \n",
       "..                         ...                               ...   \n",
       "135                          0                                 0   \n",
       "136                          0                                 0   \n",
       "137                          0                                 0   \n",
       "138                          0                                 0   \n",
       "139                          0                                 0   \n",
       "\n",
       "     transactionAmount  transactionFailed  \n",
       "0                   22                  0  \n",
       "1                   37                  0  \n",
       "2                   26                  0  \n",
       "3                   28                  0  \n",
       "4                   58                  0  \n",
       "..                 ...                ...  \n",
       "135                 36                  0  \n",
       "136                 42                  0  \n",
       "137                 24                  0  \n",
       "138                 47                  0  \n",
       "139                 25                  0  \n",
       "\n",
       "[140 rows x 14 columns]"
      ]
     },
     "execution_count": 33,
     "metadata": {},
     "output_type": "execute_result"
    }
   ],
   "source": [
    "#creating the dummies for the merged dataset\n",
    "result2= pd.get_dummies(result)\n",
    "result2"
   ]
  },
  {
   "cell_type": "markdown",
   "metadata": {},
   "source": [
    "Now exploring the data and analysing it"
   ]
  },
  {
   "cell_type": "code",
   "execution_count": 34,
   "metadata": {},
   "outputs": [
    {
     "data": {
      "text/html": [
       "<div>\n",
       "<style scoped>\n",
       "    .dataframe tbody tr th:only-of-type {\n",
       "        vertical-align: middle;\n",
       "    }\n",
       "\n",
       "    .dataframe tbody tr th {\n",
       "        vertical-align: top;\n",
       "    }\n",
       "\n",
       "    .dataframe thead th {\n",
       "        text-align: right;\n",
       "    }\n",
       "</style>\n",
       "<table border=\"1\" class=\"dataframe\">\n",
       "  <thead>\n",
       "    <tr style=\"text-align: right;\">\n",
       "      <th></th>\n",
       "      <th>customerEmail</th>\n",
       "      <th>No_Transactions</th>\n",
       "      <th>No_Orders</th>\n",
       "      <th>No_Payments</th>\n",
       "      <th>Fraud</th>\n",
       "    </tr>\n",
       "  </thead>\n",
       "  <tbody>\n",
       "    <tr>\n",
       "      <th>143</th>\n",
       "      <td>mitchellgriffith@yahoo.com</td>\n",
       "      <td>15</td>\n",
       "      <td>3</td>\n",
       "      <td>1</td>\n",
       "      <td>0</td>\n",
       "    </tr>\n",
       "  </tbody>\n",
       "</table>\n",
       "</div>"
      ],
      "text/plain": [
       "                  customerEmail  No_Transactions  No_Orders  No_Payments  \\\n",
       "143  mitchellgriffith@yahoo.com               15          3            1   \n",
       "\n",
       "     Fraud  \n",
       "143      0  "
      ]
     },
     "execution_count": 34,
     "metadata": {},
     "output_type": "execute_result"
    }
   ],
   "source": [
    "#maximum number of transaction done by the customer\n",
    "data1[data1['No_Transactions']==data1['No_Transactions'].max()]"
   ]
  },
  {
   "cell_type": "code",
   "execution_count": 35,
   "metadata": {},
   "outputs": [
    {
     "data": {
      "text/html": [
       "<div>\n",
       "<style scoped>\n",
       "    .dataframe tbody tr th:only-of-type {\n",
       "        vertical-align: middle;\n",
       "    }\n",
       "\n",
       "    .dataframe tbody tr th {\n",
       "        vertical-align: top;\n",
       "    }\n",
       "\n",
       "    .dataframe thead th {\n",
       "        text-align: right;\n",
       "    }\n",
       "</style>\n",
       "<table border=\"1\" class=\"dataframe\">\n",
       "  <thead>\n",
       "    <tr style=\"text-align: right;\">\n",
       "      <th></th>\n",
       "      <th>customerEmail</th>\n",
       "      <th>No_Transactions</th>\n",
       "      <th>No_Orders</th>\n",
       "      <th>No_Payments</th>\n",
       "      <th>Fraud</th>\n",
       "    </tr>\n",
       "  </thead>\n",
       "  <tbody>\n",
       "    <tr>\n",
       "      <th>84</th>\n",
       "      <td>lleonard@turner-fleming.com</td>\n",
       "      <td>11</td>\n",
       "      <td>8</td>\n",
       "      <td>1</td>\n",
       "      <td>1</td>\n",
       "    </tr>\n",
       "    <tr>\n",
       "      <th>97</th>\n",
       "      <td>vmiller@hotmail.com</td>\n",
       "      <td>10</td>\n",
       "      <td>8</td>\n",
       "      <td>1</td>\n",
       "      <td>1</td>\n",
       "    </tr>\n",
       "    <tr>\n",
       "      <th>98</th>\n",
       "      <td>david45@gmail.com</td>\n",
       "      <td>10</td>\n",
       "      <td>8</td>\n",
       "      <td>5</td>\n",
       "      <td>1</td>\n",
       "    </tr>\n",
       "    <tr>\n",
       "      <th>103</th>\n",
       "      <td>tmcpherson@wright.com</td>\n",
       "      <td>13</td>\n",
       "      <td>8</td>\n",
       "      <td>1</td>\n",
       "      <td>1</td>\n",
       "    </tr>\n",
       "  </tbody>\n",
       "</table>\n",
       "</div>"
      ],
      "text/plain": [
       "                   customerEmail  No_Transactions  No_Orders  No_Payments  \\\n",
       "84   lleonard@turner-fleming.com               11          8            1   \n",
       "97           vmiller@hotmail.com               10          8            1   \n",
       "98             david45@gmail.com               10          8            5   \n",
       "103        tmcpherson@wright.com               13          8            1   \n",
       "\n",
       "     Fraud  \n",
       "84       1  \n",
       "97       1  \n",
       "98       1  \n",
       "103      1  "
      ]
     },
     "execution_count": 35,
     "metadata": {},
     "output_type": "execute_result"
    }
   ],
   "source": [
    "#maximum number of orders done by the customer\n",
    "data1[data1['No_Orders']==data1['No_Orders'].max()]"
   ]
  },
  {
   "cell_type": "code",
   "execution_count": 36,
   "metadata": {},
   "outputs": [
    {
     "data": {
      "text/html": [
       "<div>\n",
       "<style scoped>\n",
       "    .dataframe tbody tr th:only-of-type {\n",
       "        vertical-align: middle;\n",
       "    }\n",
       "\n",
       "    .dataframe tbody tr th {\n",
       "        vertical-align: top;\n",
       "    }\n",
       "\n",
       "    .dataframe thead th {\n",
       "        text-align: right;\n",
       "    }\n",
       "</style>\n",
       "<table border=\"1\" class=\"dataframe\">\n",
       "  <thead>\n",
       "    <tr style=\"text-align: right;\">\n",
       "      <th></th>\n",
       "      <th>customerEmail</th>\n",
       "      <th>No_Transactions</th>\n",
       "      <th>No_Orders</th>\n",
       "      <th>No_Payments</th>\n",
       "      <th>Fraud</th>\n",
       "    </tr>\n",
       "  </thead>\n",
       "  <tbody>\n",
       "    <tr>\n",
       "      <th>68</th>\n",
       "      <td>cathy42@gibson.com</td>\n",
       "      <td>3</td>\n",
       "      <td>3</td>\n",
       "      <td>15</td>\n",
       "      <td>1</td>\n",
       "    </tr>\n",
       "  </tbody>\n",
       "</table>\n",
       "</div>"
      ],
      "text/plain": [
       "         customerEmail  No_Transactions  No_Orders  No_Payments  Fraud\n",
       "68  cathy42@gibson.com                3          3           15      1"
      ]
     },
     "execution_count": 36,
     "metadata": {},
     "output_type": "execute_result"
    }
   ],
   "source": [
    "#maximum number of payments done by the customer\n",
    "data1[data1['No_Payments']==data1['No_Payments'].max()]"
   ]
  },
  {
   "cell_type": "code",
   "execution_count": 37,
   "metadata": {},
   "outputs": [
    {
     "data": {
      "text/plain": [
       "0    541\n",
       "1     82\n",
       "Name: paymentMethodRegistrationFailure, dtype: int64"
      ]
     },
     "execution_count": 37,
     "metadata": {},
     "output_type": "execute_result"
    }
   ],
   "source": [
    "data_copy_2['paymentMethodRegistrationFailure'].value_counts()"
   ]
  },
  {
   "cell_type": "code",
   "execution_count": 38,
   "metadata": {},
   "outputs": [
    {
     "data": {
      "image/png": "[encoded data removed]",
      "text/plain": [
       "<Figure size 432x288 with 1 Axes>"
      ]
     },
     "metadata": {
      "needs_background": "light"
     },
     "output_type": "display_data"
    }
   ],
   "source": [
    "import seaborn as sns\n",
    "import matplotlib.pyplot as plt\n",
    "sns.countplot(x='paymentMethodRegistrationFailure',data=data_copy_2,palette='hls')\n",
    "plt.show()"
   ]
  },
  {
   "cell_type": "markdown",
   "metadata": {},
   "source": [
    "Count of Payment method Registration Failure occ\n",
    "\n",
    "INFERENCE --> There is a very less probability of payment to fail"
   ]
  },
  {
   "cell_type": "code",
   "execution_count": 39,
   "metadata": {},
   "outputs": [
    {
     "data": {
      "text/plain": [
       "card         479\n",
       "apple pay     49\n",
       "paypal        48\n",
       "bitcoin       47\n",
       "Name: paymentMethodType, dtype: int64"
      ]
     },
     "execution_count": 39,
     "metadata": {},
     "output_type": "execute_result"
    }
   ],
   "source": [
    "data_copy_2['paymentMethodType'].value_counts()"
   ]
  },
  {
   "cell_type": "code",
   "execution_count": 40,
   "metadata": {},
   "outputs": [
    {
     "data": {
      "image/png": "[encoded data removed]",
      "text/plain": [
       "<Figure size 432x288 with 1 Axes>"
      ]
     },
     "metadata": {
      "needs_background": "light"
     },
     "output_type": "display_data"
    }
   ],
   "source": [
    "sns.countplot(x='paymentMethodType',data=data_copy_2,palette='hls')\n",
    "plt.show()"
   ]
  },
  {
   "cell_type": "markdown",
   "metadata": {},
   "source": [
    "PREFERRED PAYMENT METHOD\n",
    "\n",
    "INFERENCE --> People prefer Card over other payment methods types"
   ]
  },
  {
   "cell_type": "code",
   "execution_count": 41,
   "metadata": {},
   "outputs": [
    {
     "data": {
      "text/plain": [
       "JCB 16 digit                   118\n",
       "VISA 16 digit                   96\n",
       "Maestro                         69\n",
       "Voyager                         61\n",
       "Diners Club / Carte Blanche     58\n",
       "VISA 13 digit                   58\n",
       "JCB 15 digit                    45\n",
       "American Express                45\n",
       "Discover                        41\n",
       "Mastercard                      32\n",
       "Name: paymentMethodProvider, dtype: int64"
      ]
     },
     "execution_count": 41,
     "metadata": {},
     "output_type": "execute_result"
    }
   ],
   "source": [
    "data_copy_2['paymentMethodProvider'].value_counts()"
   ]
  },
  {
   "cell_type": "code",
   "execution_count": 42,
   "metadata": {},
   "outputs": [
    {
     "data": {
      "text/plain": [
       "<matplotlib.axes._subplots.AxesSubplot at 0x1f164432108>"
      ]
     },
     "execution_count": 42,
     "metadata": {},
     "output_type": "execute_result"
    },
    {
     "data": {
      "image/png": "[encoded data removed]",
      "text/plain": [
       "<Figure size 432x288 with 1 Axes>"
      ]
     },
     "metadata": {
      "needs_background": "light"
     },
     "output_type": "display_data"
    }
   ],
   "source": [
    "sns.countplot(y=\"paymentMethodProvider\",data=data_copy_2)"
   ]
  },
  {
   "cell_type": "markdown",
   "metadata": {},
   "source": [
    "Payment Method Provider \n",
    "\n",
    "INFERENCE --> JCB 16 DIGIT is widely used followed by VISA 16 DIGIT and rest "
   ]
  },
  {
   "cell_type": "code",
   "execution_count": 43,
   "metadata": {},
   "outputs": [
    {
     "data": {
      "text/plain": [
       "0    455\n",
       "1    168\n",
       "Name: transactionFailed, dtype: int64"
      ]
     },
     "execution_count": 43,
     "metadata": {},
     "output_type": "execute_result"
    }
   ],
   "source": [
    "data_copy_2['transactionFailed'].value_counts()"
   ]
  },
  {
   "cell_type": "code",
   "execution_count": 44,
   "metadata": {},
   "outputs": [
    {
     "data": {
      "image/png": "[encoded data removed]",
      "text/plain": [
       "<Figure size 432x288 with 1 Axes>"
      ]
     },
     "metadata": {
      "needs_background": "light"
     },
     "output_type": "display_data"
    }
   ],
   "source": [
    "sns.countplot(x='transactionFailed',data=data_copy_2,orient='vertical',palette='hls')\n",
    "plt.show()"
   ]
  },
  {
   "cell_type": "markdown",
   "metadata": {},
   "source": [
    "transaction failed\n",
    "\n",
    "INFERENCE --> after the payment is completed , the probability of transaction to fail is low"
   ]
  },
  {
   "cell_type": "code",
   "execution_count": 45,
   "metadata": {},
   "outputs": [
    {
     "data": {
      "text/plain": [
       "fulfilled    516\n",
       "failed        63\n",
       "pending       44\n",
       "Name: orderState, dtype: int64"
      ]
     },
     "execution_count": 45,
     "metadata": {},
     "output_type": "execute_result"
    }
   ],
   "source": [
    "data_copy_2['orderState'].value_counts()"
   ]
  },
  {
   "cell_type": "code",
   "execution_count": 46,
   "metadata": {},
   "outputs": [
    {
     "data": {
      "image/png": "[encoded data removed]",
      "text/plain": [
       "<Figure size 432x288 with 1 Axes>"
      ]
     },
     "metadata": {
      "needs_background": "light"
     },
     "output_type": "display_data"
    }
   ],
   "source": [
    "sns.countplot(x='orderState',data=data_copy_2,orient='vertical',palette='hls')\n",
    "plt.show()"
   ]
  },
  {
   "cell_type": "markdown",
   "metadata": {},
   "source": [
    "Order State\n",
    "\n",
    "INFERENCE --> it is found out that the most of the orders were fullfilled"
   ]
  },
  {
   "cell_type": "code",
   "execution_count": 47,
   "metadata": {},
   "outputs": [
    {
     "data": {
      "text/plain": [
       "0    87\n",
       "1    53\n",
       "Name: Fraud, dtype: int64"
      ]
     },
     "execution_count": 47,
     "metadata": {},
     "output_type": "execute_result"
    }
   ],
   "source": [
    "result['Fraud'].value_counts()"
   ]
  },
  {
   "cell_type": "code",
   "execution_count": 48,
   "metadata": {},
   "outputs": [
    {
     "data": {
      "image/png": "[encoded data removed]",
      "text/plain": [
       "<Figure size 432x288 with 1 Axes>"
      ]
     },
     "metadata": {
      "needs_background": "light"
     },
     "output_type": "display_data"
    }
   ],
   "source": [
    "sns.countplot(x='Fraud',data=data1,orient='vertical',palette='hls')\n",
    "plt.show()"
   ]
  },
  {
   "cell_type": "markdown",
   "metadata": {},
   "source": [
    "FRAUD \n",
    "\n",
    "INFERENCE --> it is seen that the cases aof fraud is neaarly half of those that are not fraud"
   ]
  },
  {
   "cell_type": "code",
   "execution_count": 49,
   "metadata": {},
   "outputs": [
    {
     "data": {
      "text/html": [
       "<div>\n",
       "<style scoped>\n",
       "    .dataframe tbody tr th:only-of-type {\n",
       "        vertical-align: middle;\n",
       "    }\n",
       "\n",
       "    .dataframe tbody tr th {\n",
       "        vertical-align: top;\n",
       "    }\n",
       "\n",
       "    .dataframe thead th {\n",
       "        text-align: right;\n",
       "    }\n",
       "</style>\n",
       "<table border=\"1\" class=\"dataframe\">\n",
       "  <thead>\n",
       "    <tr style=\"text-align: right;\">\n",
       "      <th></th>\n",
       "      <th>No_Transactions</th>\n",
       "      <th>No_Orders</th>\n",
       "      <th>No_Payments</th>\n",
       "      <th>Fraud</th>\n",
       "      <th>orderState_failed</th>\n",
       "      <th>orderState_fulfilled</th>\n",
       "      <th>orderState_pending</th>\n",
       "      <th>paymentMethodType_card</th>\n",
       "      <th>paymentMethodType_paypal</th>\n",
       "      <th>paymentMethodType_apple pay</th>\n",
       "      <th>paymentMethodType_bitcoin</th>\n",
       "      <th>paymentMethodRegistrationFailure</th>\n",
       "      <th>transactionAmount</th>\n",
       "      <th>transactionFailed</th>\n",
       "    </tr>\n",
       "  </thead>\n",
       "  <tbody>\n",
       "    <tr>\n",
       "      <th>0</th>\n",
       "      <td>2</td>\n",
       "      <td>2</td>\n",
       "      <td>1</td>\n",
       "      <td>0</td>\n",
       "      <td>0</td>\n",
       "      <td>0</td>\n",
       "      <td>0</td>\n",
       "      <td>1</td>\n",
       "      <td>0</td>\n",
       "      <td>0</td>\n",
       "      <td>0</td>\n",
       "      <td>1</td>\n",
       "      <td>22</td>\n",
       "      <td>0</td>\n",
       "    </tr>\n",
       "    <tr>\n",
       "      <th>1</th>\n",
       "      <td>3</td>\n",
       "      <td>3</td>\n",
       "      <td>7</td>\n",
       "      <td>1</td>\n",
       "      <td>0</td>\n",
       "      <td>1</td>\n",
       "      <td>0</td>\n",
       "      <td>0</td>\n",
       "      <td>0</td>\n",
       "      <td>0</td>\n",
       "      <td>1</td>\n",
       "      <td>0</td>\n",
       "      <td>37</td>\n",
       "      <td>0</td>\n",
       "    </tr>\n",
       "    <tr>\n",
       "      <th>2</th>\n",
       "      <td>5</td>\n",
       "      <td>3</td>\n",
       "      <td>2</td>\n",
       "      <td>0</td>\n",
       "      <td>0</td>\n",
       "      <td>0</td>\n",
       "      <td>0</td>\n",
       "      <td>1</td>\n",
       "      <td>0</td>\n",
       "      <td>0</td>\n",
       "      <td>0</td>\n",
       "      <td>0</td>\n",
       "      <td>26</td>\n",
       "      <td>0</td>\n",
       "    </tr>\n",
       "    <tr>\n",
       "      <th>3</th>\n",
       "      <td>3</td>\n",
       "      <td>3</td>\n",
       "      <td>1</td>\n",
       "      <td>0</td>\n",
       "      <td>0</td>\n",
       "      <td>1</td>\n",
       "      <td>0</td>\n",
       "      <td>1</td>\n",
       "      <td>0</td>\n",
       "      <td>0</td>\n",
       "      <td>0</td>\n",
       "      <td>0</td>\n",
       "      <td>28</td>\n",
       "      <td>0</td>\n",
       "    </tr>\n",
       "    <tr>\n",
       "      <th>4</th>\n",
       "      <td>7</td>\n",
       "      <td>7</td>\n",
       "      <td>6</td>\n",
       "      <td>1</td>\n",
       "      <td>0</td>\n",
       "      <td>0</td>\n",
       "      <td>0</td>\n",
       "      <td>0</td>\n",
       "      <td>0</td>\n",
       "      <td>0</td>\n",
       "      <td>0</td>\n",
       "      <td>0</td>\n",
       "      <td>58</td>\n",
       "      <td>0</td>\n",
       "    </tr>\n",
       "    <tr>\n",
       "      <th>...</th>\n",
       "      <td>...</td>\n",
       "      <td>...</td>\n",
       "      <td>...</td>\n",
       "      <td>...</td>\n",
       "      <td>...</td>\n",
       "      <td>...</td>\n",
       "      <td>...</td>\n",
       "      <td>...</td>\n",
       "      <td>...</td>\n",
       "      <td>...</td>\n",
       "      <td>...</td>\n",
       "      <td>...</td>\n",
       "      <td>...</td>\n",
       "      <td>...</td>\n",
       "    </tr>\n",
       "    <tr>\n",
       "      <th>135</th>\n",
       "      <td>3</td>\n",
       "      <td>2</td>\n",
       "      <td>1</td>\n",
       "      <td>0</td>\n",
       "      <td>0</td>\n",
       "      <td>1</td>\n",
       "      <td>0</td>\n",
       "      <td>0</td>\n",
       "      <td>0</td>\n",
       "      <td>1</td>\n",
       "      <td>0</td>\n",
       "      <td>0</td>\n",
       "      <td>36</td>\n",
       "      <td>0</td>\n",
       "    </tr>\n",
       "    <tr>\n",
       "      <th>136</th>\n",
       "      <td>3</td>\n",
       "      <td>3</td>\n",
       "      <td>1</td>\n",
       "      <td>1</td>\n",
       "      <td>0</td>\n",
       "      <td>0</td>\n",
       "      <td>0</td>\n",
       "      <td>1</td>\n",
       "      <td>0</td>\n",
       "      <td>0</td>\n",
       "      <td>0</td>\n",
       "      <td>0</td>\n",
       "      <td>42</td>\n",
       "      <td>0</td>\n",
       "    </tr>\n",
       "    <tr>\n",
       "      <th>137</th>\n",
       "      <td>6</td>\n",
       "      <td>5</td>\n",
       "      <td>3</td>\n",
       "      <td>1</td>\n",
       "      <td>0</td>\n",
       "      <td>1</td>\n",
       "      <td>0</td>\n",
       "      <td>1</td>\n",
       "      <td>0</td>\n",
       "      <td>0</td>\n",
       "      <td>0</td>\n",
       "      <td>0</td>\n",
       "      <td>24</td>\n",
       "      <td>0</td>\n",
       "    </tr>\n",
       "    <tr>\n",
       "      <th>138</th>\n",
       "      <td>8</td>\n",
       "      <td>6</td>\n",
       "      <td>6</td>\n",
       "      <td>1</td>\n",
       "      <td>0</td>\n",
       "      <td>0</td>\n",
       "      <td>0</td>\n",
       "      <td>0</td>\n",
       "      <td>0</td>\n",
       "      <td>0</td>\n",
       "      <td>0</td>\n",
       "      <td>0</td>\n",
       "      <td>47</td>\n",
       "      <td>0</td>\n",
       "    </tr>\n",
       "    <tr>\n",
       "      <th>139</th>\n",
       "      <td>7</td>\n",
       "      <td>5</td>\n",
       "      <td>4</td>\n",
       "      <td>0</td>\n",
       "      <td>0</td>\n",
       "      <td>1</td>\n",
       "      <td>0</td>\n",
       "      <td>0</td>\n",
       "      <td>0</td>\n",
       "      <td>0</td>\n",
       "      <td>0</td>\n",
       "      <td>0</td>\n",
       "      <td>25</td>\n",
       "      <td>0</td>\n",
       "    </tr>\n",
       "  </tbody>\n",
       "</table>\n",
       "<p>140 rows × 14 columns</p>\n",
       "</div>"
      ],
      "text/plain": [
       "     No_Transactions  No_Orders  No_Payments  Fraud  orderState_failed  \\\n",
       "0                  2          2            1      0                  0   \n",
       "1                  3          3            7      1                  0   \n",
       "2                  5          3            2      0                  0   \n",
       "3                  3          3            1      0                  0   \n",
       "4                  7          7            6      1                  0   \n",
       "..               ...        ...          ...    ...                ...   \n",
       "135                3          2            1      0                  0   \n",
       "136                3          3            1      1                  0   \n",
       "137                6          5            3      1                  0   \n",
       "138                8          6            6      1                  0   \n",
       "139                7          5            4      0                  0   \n",
       "\n",
       "     orderState_fulfilled  orderState_pending  paymentMethodType_card  \\\n",
       "0                       0                   0                       1   \n",
       "1                       1                   0                       0   \n",
       "2                       0                   0                       1   \n",
       "3                       1                   0                       1   \n",
       "4                       0                   0                       0   \n",
       "..                    ...                 ...                     ...   \n",
       "135                     1                   0                       0   \n",
       "136                     0                   0                       1   \n",
       "137                     1                   0                       1   \n",
       "138                     0                   0                       0   \n",
       "139                     1                   0                       0   \n",
       "\n",
       "     paymentMethodType_paypal  paymentMethodType_apple pay  \\\n",
       "0                           0                            0   \n",
       "1                           0                            0   \n",
       "2                           0                            0   \n",
       "3                           0                            0   \n",
       "4                           0                            0   \n",
       "..                        ...                          ...   \n",
       "135                         0                            1   \n",
       "136                         0                            0   \n",
       "137                         0                            0   \n",
       "138                         0                            0   \n",
       "139                         0                            0   \n",
       "\n",
       "     paymentMethodType_bitcoin  paymentMethodRegistrationFailure  \\\n",
       "0                            0                                 1   \n",
       "1                            1                                 0   \n",
       "2                            0                                 0   \n",
       "3                            0                                 0   \n",
       "4                            0                                 0   \n",
       "..                         ...                               ...   \n",
       "135                          0                                 0   \n",
       "136                          0                                 0   \n",
       "137                          0                                 0   \n",
       "138                          0                                 0   \n",
       "139                          0                                 0   \n",
       "\n",
       "     transactionAmount  transactionFailed  \n",
       "0                   22                  0  \n",
       "1                   37                  0  \n",
       "2                   26                  0  \n",
       "3                   28                  0  \n",
       "4                   58                  0  \n",
       "..                 ...                ...  \n",
       "135                 36                  0  \n",
       "136                 42                  0  \n",
       "137                 24                  0  \n",
       "138                 47                  0  \n",
       "139                 25                  0  \n",
       "\n",
       "[140 rows x 14 columns]"
      ]
     },
     "execution_count": 49,
     "metadata": {},
     "output_type": "execute_result"
    }
   ],
   "source": [
    "result"
   ]
  },
  {
   "cell_type": "code",
   "execution_count": 50,
   "metadata": {},
   "outputs": [
    {
     "data": {
      "text/plain": [
       "<matplotlib.collections.PathCollection at 0x1f164606588>"
      ]
     },
     "execution_count": 50,
     "metadata": {},
     "output_type": "execute_result"
    },
    {
     "data": {
      "image/png": "[encoded data removed]",
      "text/plain": [
       "<Figure size 432x288 with 1 Axes>"
      ]
     },
     "metadata": {
      "needs_background": "light"
     },
     "output_type": "display_data"
    }
   ],
   "source": [
    "#number of transaction that went fraud and not fraud\n",
    "plt.scatter(result['No_Transactions'],result['Fraud'],color='#2ca02c')"
   ]
  },
  {
   "cell_type": "code",
   "execution_count": 51,
   "metadata": {},
   "outputs": [
    {
     "data": {
      "text/plain": [
       "<matplotlib.collections.PathCollection at 0x1f16467a988>"
      ]
     },
     "execution_count": 51,
     "metadata": {},
     "output_type": "execute_result"
    },
    {
     "data": {
      "image/png": "[encoded data removed]",
      "text/plain": [
       "<Figure size 432x288 with 1 Axes>"
      ]
     },
     "metadata": {
      "needs_background": "light"
     },
     "output_type": "display_data"
    }
   ],
   "source": [
    "#number of orders that went fraud and not fraud\n",
    "plt.scatter(result['No_Orders'],result['Fraud'],color='#2ca02c')"
   ]
  },
  {
   "cell_type": "code",
   "execution_count": 52,
   "metadata": {},
   "outputs": [
    {
     "data": {
      "text/plain": [
       "<matplotlib.collections.PathCollection at 0x1f1646e7a88>"
      ]
     },
     "execution_count": 52,
     "metadata": {},
     "output_type": "execute_result"
    },
    {
     "data": {
      "image/png": "[encoded data removed]",
      "text/plain": [
       "<Figure size 432x288 with 1 Axes>"
      ]
     },
     "metadata": {
      "needs_background": "light"
     },
     "output_type": "display_data"
    }
   ],
   "source": [
    "#number of payments that went fraud and not fraud\n",
    "plt.scatter(result['No_Payments'],result['Fraud'],color='#2ca02c')"
   ]
  },
  {
   "cell_type": "code",
   "execution_count": 53,
   "metadata": {},
   "outputs": [
    {
     "data": {
      "text/plain": [
       "<seaborn.axisgrid.FacetGrid at 0x1f164571988>"
      ]
     },
     "execution_count": 53,
     "metadata": {},
     "output_type": "execute_result"
    },
    {
     "data": {
      "image/png": "[encoded data removed]",
      "text/plain": [
       "<Figure size 360x360 with 1 Axes>"
      ]
     },
     "metadata": {
      "needs_background": "light"
     },
     "output_type": "display_data"
    }
   ],
   "source": [
    "sns.catplot(x=\"No_Payments\",y=\"No_Transactions\",data=result,kind=\"box\")"
   ]
  },
  {
   "cell_type": "markdown",
   "metadata": {},
   "source": [
    "INFERENCE --> although there is no particular trend , but it seems that as the no.of payments increase the no,of transactions tend to decrease "
   ]
  },
  {
   "cell_type": "code",
   "execution_count": 54,
   "metadata": {},
   "outputs": [
    {
     "data": {
      "text/plain": [
       "<matplotlib.axes._subplots.AxesSubplot at 0x1f16127c608>"
      ]
     },
     "execution_count": 54,
     "metadata": {},
     "output_type": "execute_result"
    },
    {
     "data": {
      "image/png": "[encoded data removed]",
      "text/plain": [
       "<Figure size 432x288 with 1 Axes>"
      ]
     },
     "metadata": {
      "needs_background": "light"
     },
     "output_type": "display_data"
    }
   ],
   "source": [
    "sns.barplot(y=\"No_Payments\",x=\"No_Orders\",data=result)"
   ]
  },
  {
   "cell_type": "markdown",
   "metadata": {},
   "source": [
    "INFERENCE --> as the no,of orders increase the no.of payments tend to increase"
   ]
  },
  {
   "cell_type": "code",
   "execution_count": 55,
   "metadata": {},
   "outputs": [
    {
     "data": {
      "text/html": [
       "<div>\n",
       "<style scoped>\n",
       "    .dataframe tbody tr th:only-of-type {\n",
       "        vertical-align: middle;\n",
       "    }\n",
       "\n",
       "    .dataframe tbody tr th {\n",
       "        vertical-align: top;\n",
       "    }\n",
       "\n",
       "    .dataframe thead th {\n",
       "        text-align: right;\n",
       "    }\n",
       "</style>\n",
       "<table border=\"1\" class=\"dataframe\">\n",
       "  <thead>\n",
       "    <tr style=\"text-align: right;\">\n",
       "      <th></th>\n",
       "      <th>customerEmail</th>\n",
       "      <th>No_Transactions</th>\n",
       "      <th>No_Orders</th>\n",
       "      <th>No_Payments</th>\n",
       "      <th>Fraud</th>\n",
       "    </tr>\n",
       "  </thead>\n",
       "  <tbody>\n",
       "    <tr>\n",
       "      <th>34</th>\n",
       "      <td>zbennett@frazier.com</td>\n",
       "      <td>0</td>\n",
       "      <td>0</td>\n",
       "      <td>0</td>\n",
       "      <td>0</td>\n",
       "    </tr>\n",
       "    <tr>\n",
       "      <th>38</th>\n",
       "      <td>xwang@white.com</td>\n",
       "      <td>0</td>\n",
       "      <td>0</td>\n",
       "      <td>0</td>\n",
       "      <td>0</td>\n",
       "    </tr>\n",
       "    <tr>\n",
       "      <th>44</th>\n",
       "      <td>gsimpson@cox.org</td>\n",
       "      <td>0</td>\n",
       "      <td>0</td>\n",
       "      <td>0</td>\n",
       "      <td>0</td>\n",
       "    </tr>\n",
       "    <tr>\n",
       "      <th>47</th>\n",
       "      <td>johnsonjennifer@yahoo.com</td>\n",
       "      <td>0</td>\n",
       "      <td>0</td>\n",
       "      <td>0</td>\n",
       "      <td>0</td>\n",
       "    </tr>\n",
       "    <tr>\n",
       "      <th>54</th>\n",
       "      <td>zthomas@gmail.com</td>\n",
       "      <td>0</td>\n",
       "      <td>0</td>\n",
       "      <td>0</td>\n",
       "      <td>0</td>\n",
       "    </tr>\n",
       "    <tr>\n",
       "      <th>70</th>\n",
       "      <td>brockmatthew@hotmail.com</td>\n",
       "      <td>0</td>\n",
       "      <td>0</td>\n",
       "      <td>0</td>\n",
       "      <td>0</td>\n",
       "    </tr>\n",
       "    <tr>\n",
       "      <th>125</th>\n",
       "      <td>wbeltran@ramirez-shaffer.com</td>\n",
       "      <td>0</td>\n",
       "      <td>0</td>\n",
       "      <td>0</td>\n",
       "      <td>0</td>\n",
       "    </tr>\n",
       "    <tr>\n",
       "      <th>133</th>\n",
       "      <td>johnlowery@gmail.com</td>\n",
       "      <td>0</td>\n",
       "      <td>0</td>\n",
       "      <td>0</td>\n",
       "      <td>1</td>\n",
       "    </tr>\n",
       "    <tr>\n",
       "      <th>137</th>\n",
       "      <td>stephanie21@reyes-spencer.biz</td>\n",
       "      <td>0</td>\n",
       "      <td>0</td>\n",
       "      <td>0</td>\n",
       "      <td>0</td>\n",
       "    </tr>\n",
       "    <tr>\n",
       "      <th>139</th>\n",
       "      <td>bhorne@fuller-nelson.com</td>\n",
       "      <td>0</td>\n",
       "      <td>0</td>\n",
       "      <td>0</td>\n",
       "      <td>0</td>\n",
       "    </tr>\n",
       "    <tr>\n",
       "      <th>149</th>\n",
       "      <td>davidwalker@hotmail.com</td>\n",
       "      <td>0</td>\n",
       "      <td>0</td>\n",
       "      <td>0</td>\n",
       "      <td>0</td>\n",
       "    </tr>\n",
       "    <tr>\n",
       "      <th>150</th>\n",
       "      <td>philipnelson@dean.com</td>\n",
       "      <td>0</td>\n",
       "      <td>0</td>\n",
       "      <td>0</td>\n",
       "      <td>0</td>\n",
       "    </tr>\n",
       "  </tbody>\n",
       "</table>\n",
       "</div>"
      ],
      "text/plain": [
       "                     customerEmail  No_Transactions  No_Orders  No_Payments  \\\n",
       "34            zbennett@frazier.com                0          0            0   \n",
       "38                 xwang@white.com                0          0            0   \n",
       "44                gsimpson@cox.org                0          0            0   \n",
       "47       johnsonjennifer@yahoo.com                0          0            0   \n",
       "54               zthomas@gmail.com                0          0            0   \n",
       "70        brockmatthew@hotmail.com                0          0            0   \n",
       "125   wbeltran@ramirez-shaffer.com                0          0            0   \n",
       "133           johnlowery@gmail.com                0          0            0   \n",
       "137  stephanie21@reyes-spencer.biz                0          0            0   \n",
       "139       bhorne@fuller-nelson.com                0          0            0   \n",
       "149        davidwalker@hotmail.com                0          0            0   \n",
       "150          philipnelson@dean.com                0          0            0   \n",
       "\n",
       "     Fraud  \n",
       "34       0  \n",
       "38       0  \n",
       "44       0  \n",
       "47       0  \n",
       "54       0  \n",
       "70       0  \n",
       "125      0  \n",
       "133      1  \n",
       "137      0  \n",
       "139      0  \n",
       "149      0  \n",
       "150      0  "
      ]
     },
     "execution_count": 55,
     "metadata": {},
     "output_type": "execute_result"
    }
   ],
   "source": [
    "data1[data1['No_Payments']==0]"
   ]
  },
  {
   "cell_type": "code",
   "execution_count": 56,
   "metadata": {},
   "outputs": [
    {
     "data": {
      "text/plain": [
       "75"
      ]
     },
     "execution_count": 56,
     "metadata": {},
     "output_type": "execute_result"
    }
   ],
   "source": [
    "#No. number of fullfilled orders\n",
    "len(result[result['orderState_fulfilled'] == 1])"
   ]
  },
  {
   "cell_type": "code",
   "execution_count": 57,
   "metadata": {},
   "outputs": [
    {
     "data": {
      "text/plain": [
       "2"
      ]
     },
     "execution_count": 57,
     "metadata": {},
     "output_type": "execute_result"
    }
   ],
   "source": [
    "#No. number of pending orders\n",
    "len(result[result['orderState_pending'] == 1])"
   ]
  },
  {
   "cell_type": "code",
   "execution_count": 58,
   "metadata": {},
   "outputs": [
    {
     "data": {
      "text/plain": [
       "0"
      ]
     },
     "execution_count": 58,
     "metadata": {},
     "output_type": "execute_result"
    }
   ],
   "source": [
    "#No. number of failed orders\n",
    "len(result[result['orderState_failed'] == 1])"
   ]
  },
  {
   "cell_type": "code",
   "execution_count": 59,
   "metadata": {},
   "outputs": [
    {
     "data": {
      "text/plain": [
       "Text(0, 0.5, 'Fraud')"
      ]
     },
     "execution_count": 59,
     "metadata": {},
     "output_type": "execute_result"
    },
    {
     "data": {
      "image/png": "[encoded data removed]",
      "text/plain": [
       "<Figure size 432x288 with 1 Axes>"
      ]
     },
     "metadata": {
      "needs_background": "light"
     },
     "output_type": "display_data"
    }
   ],
   "source": [
    "%matplotlib inline\n",
    "pd.crosstab(result['paymentMethodType_card'],result['Fraud']).plot(kind='bar')\n",
    "plt.title('paymentMethodProvider for card vs fraud')\n",
    "plt.xlabel('paymentMethodProvider')\n",
    "plt.ylabel('Fraud')"
   ]
  },
  {
   "cell_type": "markdown",
   "metadata": {},
   "source": [
    "INFERENCE --> when the payment method is not card then it is seen that the not fraud and fraud cases are nearly same and when card is used the non fraud case is higher than the fraud case"
   ]
  },
  {
   "cell_type": "code",
   "execution_count": 60,
   "metadata": {},
   "outputs": [
    {
     "data": {
      "text/plain": [
       "Text(0, 0.5, 'Fraud')"
      ]
     },
     "execution_count": 60,
     "metadata": {},
     "output_type": "execute_result"
    },
    {
     "data": {
      "image/png": "[encoded data removed]",
      "text/plain": [
       "<Figure size 432x288 with 1 Axes>"
      ]
     },
     "metadata": {
      "needs_background": "light"
     },
     "output_type": "display_data"
    }
   ],
   "source": [
    "%matplotlib inline\n",
    "pd.crosstab(result['paymentMethodType_paypal'],result['Fraud']).plot(kind='bar')\n",
    "plt.title('paymentMethodProvider for paypal vs fraud')\n",
    "plt.xlabel('paymentMethodProvider')\n",
    "plt.ylabel('Fraud')"
   ]
  },
  {
   "cell_type": "markdown",
   "metadata": {},
   "source": [
    "INFERENCE --> when the payment method is not paypal then the cases of not fraud is higher than cases of fraud and when paypal is used there is no case of fraud at all"
   ]
  },
  {
   "cell_type": "code",
   "execution_count": 61,
   "metadata": {},
   "outputs": [
    {
     "data": {
      "text/plain": [
       "Text(0, 0.5, 'Fraud')"
      ]
     },
     "execution_count": 61,
     "metadata": {},
     "output_type": "execute_result"
    },
    {
     "data": {
      "image/png": "[encoded data removed]",
      "text/plain": [
       "<Figure size 432x288 with 1 Axes>"
      ]
     },
     "metadata": {
      "needs_background": "light"
     },
     "output_type": "display_data"
    }
   ],
   "source": [
    "%matplotlib inline\n",
    "pd.crosstab(result['paymentMethodType_bitcoin'],result['Fraud']).plot(kind='bar')\n",
    "plt.title('paymentMethodProvider for bitcoin vs fraud')\n",
    "plt.xlabel('paymentMethodProvider')\n",
    "plt.ylabel('Fraud')"
   ]
  },
  {
   "cell_type": "markdown",
   "metadata": {},
   "source": [
    "INFERENCE --> when the payment type is not bitcoin it is found that the cases of non fraud is higher than the cases of fraud and when bitcoin is used it is found that fraud and non fraud cases is almost same"
   ]
  },
  {
   "cell_type": "markdown",
   "metadata": {},
   "source": [
    "Till Now we have done some EDA for our datasets\n",
    "Now we have to construct our model to predict if the customer if fraudulent or not"
   ]
  },
  {
   "cell_type": "code",
   "execution_count": 62,
   "metadata": {},
   "outputs": [
    {
     "data": {
      "text/html": [
       "<div>\n",
       "<style scoped>\n",
       "    .dataframe tbody tr th:only-of-type {\n",
       "        vertical-align: middle;\n",
       "    }\n",
       "\n",
       "    .dataframe tbody tr th {\n",
       "        vertical-align: top;\n",
       "    }\n",
       "\n",
       "    .dataframe thead th {\n",
       "        text-align: right;\n",
       "    }\n",
       "</style>\n",
       "<table border=\"1\" class=\"dataframe\">\n",
       "  <thead>\n",
       "    <tr style=\"text-align: right;\">\n",
       "      <th></th>\n",
       "      <th>No_Transactions</th>\n",
       "      <th>No_Orders</th>\n",
       "      <th>No_Payments</th>\n",
       "      <th>Fraud</th>\n",
       "      <th>orderState_failed</th>\n",
       "      <th>orderState_fulfilled</th>\n",
       "      <th>orderState_pending</th>\n",
       "      <th>paymentMethodType_card</th>\n",
       "      <th>paymentMethodType_paypal</th>\n",
       "      <th>paymentMethodType_apple pay</th>\n",
       "      <th>paymentMethodType_bitcoin</th>\n",
       "      <th>paymentMethodRegistrationFailure</th>\n",
       "      <th>transactionAmount</th>\n",
       "      <th>transactionFailed</th>\n",
       "    </tr>\n",
       "  </thead>\n",
       "  <tbody>\n",
       "    <tr>\n",
       "      <th>count</th>\n",
       "      <td>140.000000</td>\n",
       "      <td>140.000000</td>\n",
       "      <td>140.000000</td>\n",
       "      <td>140.000000</td>\n",
       "      <td>140.0</td>\n",
       "      <td>140.000000</td>\n",
       "      <td>140.000000</td>\n",
       "      <td>140.000000</td>\n",
       "      <td>140.000000</td>\n",
       "      <td>140.000000</td>\n",
       "      <td>140.000000</td>\n",
       "      <td>140.000000</td>\n",
       "      <td>140.000000</td>\n",
       "      <td>140.000000</td>\n",
       "    </tr>\n",
       "    <tr>\n",
       "      <th>mean</th>\n",
       "      <td>4.321429</td>\n",
       "      <td>3.335714</td>\n",
       "      <td>2.271429</td>\n",
       "      <td>0.378571</td>\n",
       "      <td>0.0</td>\n",
       "      <td>0.535714</td>\n",
       "      <td>0.014286</td>\n",
       "      <td>0.578571</td>\n",
       "      <td>0.050000</td>\n",
       "      <td>0.050000</td>\n",
       "      <td>0.050000</td>\n",
       "      <td>0.078571</td>\n",
       "      <td>34.550000</td>\n",
       "      <td>0.021429</td>\n",
       "    </tr>\n",
       "    <tr>\n",
       "      <th>std</th>\n",
       "      <td>2.496812</td>\n",
       "      <td>1.711622</td>\n",
       "      <td>2.201513</td>\n",
       "      <td>0.486773</td>\n",
       "      <td>0.0</td>\n",
       "      <td>0.500514</td>\n",
       "      <td>0.119092</td>\n",
       "      <td>0.495561</td>\n",
       "      <td>0.218728</td>\n",
       "      <td>0.218728</td>\n",
       "      <td>0.218728</td>\n",
       "      <td>0.270035</td>\n",
       "      <td>29.343494</td>\n",
       "      <td>0.145328</td>\n",
       "    </tr>\n",
       "    <tr>\n",
       "      <th>min</th>\n",
       "      <td>0.000000</td>\n",
       "      <td>0.000000</td>\n",
       "      <td>0.000000</td>\n",
       "      <td>0.000000</td>\n",
       "      <td>0.0</td>\n",
       "      <td>0.000000</td>\n",
       "      <td>0.000000</td>\n",
       "      <td>0.000000</td>\n",
       "      <td>0.000000</td>\n",
       "      <td>0.000000</td>\n",
       "      <td>0.000000</td>\n",
       "      <td>0.000000</td>\n",
       "      <td>12.000000</td>\n",
       "      <td>0.000000</td>\n",
       "    </tr>\n",
       "    <tr>\n",
       "      <th>25%</th>\n",
       "      <td>2.000000</td>\n",
       "      <td>2.000000</td>\n",
       "      <td>1.000000</td>\n",
       "      <td>0.000000</td>\n",
       "      <td>0.0</td>\n",
       "      <td>0.000000</td>\n",
       "      <td>0.000000</td>\n",
       "      <td>0.000000</td>\n",
       "      <td>0.000000</td>\n",
       "      <td>0.000000</td>\n",
       "      <td>0.000000</td>\n",
       "      <td>0.000000</td>\n",
       "      <td>24.000000</td>\n",
       "      <td>0.000000</td>\n",
       "    </tr>\n",
       "    <tr>\n",
       "      <th>50%</th>\n",
       "      <td>4.000000</td>\n",
       "      <td>3.000000</td>\n",
       "      <td>2.000000</td>\n",
       "      <td>0.000000</td>\n",
       "      <td>0.0</td>\n",
       "      <td>1.000000</td>\n",
       "      <td>0.000000</td>\n",
       "      <td>1.000000</td>\n",
       "      <td>0.000000</td>\n",
       "      <td>0.000000</td>\n",
       "      <td>0.000000</td>\n",
       "      <td>0.000000</td>\n",
       "      <td>31.500000</td>\n",
       "      <td>0.000000</td>\n",
       "    </tr>\n",
       "    <tr>\n",
       "      <th>75%</th>\n",
       "      <td>6.000000</td>\n",
       "      <td>4.000000</td>\n",
       "      <td>3.000000</td>\n",
       "      <td>1.000000</td>\n",
       "      <td>0.0</td>\n",
       "      <td>1.000000</td>\n",
       "      <td>0.000000</td>\n",
       "      <td>1.000000</td>\n",
       "      <td>0.000000</td>\n",
       "      <td>0.000000</td>\n",
       "      <td>0.000000</td>\n",
       "      <td>0.000000</td>\n",
       "      <td>38.000000</td>\n",
       "      <td>0.000000</td>\n",
       "    </tr>\n",
       "    <tr>\n",
       "      <th>max</th>\n",
       "      <td>15.000000</td>\n",
       "      <td>8.000000</td>\n",
       "      <td>15.000000</td>\n",
       "      <td>1.000000</td>\n",
       "      <td>0.0</td>\n",
       "      <td>1.000000</td>\n",
       "      <td>1.000000</td>\n",
       "      <td>1.000000</td>\n",
       "      <td>1.000000</td>\n",
       "      <td>1.000000</td>\n",
       "      <td>1.000000</td>\n",
       "      <td>1.000000</td>\n",
       "      <td>353.000000</td>\n",
       "      <td>1.000000</td>\n",
       "    </tr>\n",
       "  </tbody>\n",
       "</table>\n",
       "</div>"
      ],
      "text/plain": [
       "       No_Transactions   No_Orders  No_Payments       Fraud  \\\n",
       "count       140.000000  140.000000   140.000000  140.000000   \n",
       "mean          4.321429    3.335714     2.271429    0.378571   \n",
       "std           2.496812    1.711622     2.201513    0.486773   \n",
       "min           0.000000    0.000000     0.000000    0.000000   \n",
       "25%           2.000000    2.000000     1.000000    0.000000   \n",
       "50%           4.000000    3.000000     2.000000    0.000000   \n",
       "75%           6.000000    4.000000     3.000000    1.000000   \n",
       "max          15.000000    8.000000    15.000000    1.000000   \n",
       "\n",
       "       orderState_failed  orderState_fulfilled  orderState_pending  \\\n",
       "count              140.0            140.000000          140.000000   \n",
       "mean                 0.0              0.535714            0.014286   \n",
       "std                  0.0              0.500514            0.119092   \n",
       "min                  0.0              0.000000            0.000000   \n",
       "25%                  0.0              0.000000            0.000000   \n",
       "50%                  0.0              1.000000            0.000000   \n",
       "75%                  0.0              1.000000            0.000000   \n",
       "max                  0.0              1.000000            1.000000   \n",
       "\n",
       "       paymentMethodType_card  paymentMethodType_paypal  \\\n",
       "count              140.000000                140.000000   \n",
       "mean                 0.578571                  0.050000   \n",
       "std                  0.495561                  0.218728   \n",
       "min                  0.000000                  0.000000   \n",
       "25%                  0.000000                  0.000000   \n",
       "50%                  1.000000                  0.000000   \n",
       "75%                  1.000000                  0.000000   \n",
       "max                  1.000000                  1.000000   \n",
       "\n",
       "       paymentMethodType_apple pay  paymentMethodType_bitcoin  \\\n",
       "count                   140.000000                 140.000000   \n",
       "mean                      0.050000                   0.050000   \n",
       "std                       0.218728                   0.218728   \n",
       "min                       0.000000                   0.000000   \n",
       "25%                       0.000000                   0.000000   \n",
       "50%                       0.000000                   0.000000   \n",
       "75%                       0.000000                   0.000000   \n",
       "max                       1.000000                   1.000000   \n",
       "\n",
       "       paymentMethodRegistrationFailure  transactionAmount  transactionFailed  \n",
       "count                        140.000000         140.000000         140.000000  \n",
       "mean                           0.078571          34.550000           0.021429  \n",
       "std                            0.270035          29.343494           0.145328  \n",
       "min                            0.000000          12.000000           0.000000  \n",
       "25%                            0.000000          24.000000           0.000000  \n",
       "50%                            0.000000          31.500000           0.000000  \n",
       "75%                            0.000000          38.000000           0.000000  \n",
       "max                            1.000000         353.000000           1.000000  "
      ]
     },
     "execution_count": 62,
     "metadata": {},
     "output_type": "execute_result"
    }
   ],
   "source": [
    "result.describe(include='all')"
   ]
  },
  {
   "cell_type": "code",
   "execution_count": 63,
   "metadata": {},
   "outputs": [],
   "source": [
    "#creating dependent and independent variables\n",
    "features = result2.drop('Fraud',axis=1) #->independent variables\n",
    "labels = result2['Fraud'] #->dependent variable"
   ]
  },
  {
   "cell_type": "code",
   "execution_count": 64,
   "metadata": {},
   "outputs": [
    {
     "data": {
      "text/plain": [
       "LogisticRegression(C=1.0, class_weight=None, dual=False, fit_intercept=True,\n",
       "                   intercept_scaling=1, l1_ratio=None, max_iter=100,\n",
       "                   multi_class='auto', n_jobs=None, penalty='l2',\n",
       "                   random_state=None, solver='lbfgs', tol=0.0001, verbose=0,\n",
       "                   warm_start=False)"
      ]
     },
     "execution_count": 64,
     "metadata": {},
     "output_type": "execute_result"
    }
   ],
   "source": [
    "#splitting the data into training and testing\n",
    "#and performing Logistic Regression and fitting the training dataset in the Logistic model\n",
    "\n",
    "from sklearn.model_selection import train_test_split\n",
    "\n",
    "X_train,X_test,y_train,y_test = train_test_split(features,labels,test_size=0.20,random_state=0)\n",
    "\n",
    "from sklearn.linear_model import LogisticRegression\n",
    "\n",
    "lr = LogisticRegression()\n",
    "lr.fit(X_train,y_train)\n"
   ]
  },
  {
   "cell_type": "code",
   "execution_count": 65,
   "metadata": {},
   "outputs": [
    {
     "data": {
      "text/plain": [
       "array([0, 1, 1, 0, 0, 0, 0, 0, 0, 1, 0, 0, 0, 0, 1, 0, 1, 0, 1, 0, 0, 0,\n",
       "       1, 0, 0, 0, 0, 1])"
      ]
     },
     "execution_count": 65,
     "metadata": {},
     "output_type": "execute_result"
    }
   ],
   "source": [
    "#predicating the output from the test data\n",
    "ypred = lr.predict(X_test)\n",
    "\n",
    "ypred"
   ]
  },
  {
   "cell_type": "code",
   "execution_count": 66,
   "metadata": {},
   "outputs": [
    {
     "data": {
      "text/plain": [
       "array([[15,  2],\n",
       "       [ 5,  6]], dtype=int64)"
      ]
     },
     "execution_count": 66,
     "metadata": {},
     "output_type": "execute_result"
    }
   ],
   "source": [
    "from sklearn.metrics import confusion_matrix\n",
    "\n",
    "#creating a confusion matrix to check if the variable is predicated correctly or not\n",
    "confusion_matrix(y_test,ypred)"
   ]
  },
  {
   "cell_type": "code",
   "execution_count": 67,
   "metadata": {},
   "outputs": [
    {
     "name": "stdout",
     "output_type": "stream",
     "text": [
      "Confusion matrix, without normalization\n",
      "[[15  2]\n",
      " [ 5  6]]\n"
     ]
    },
    {
     "data": {
      "image/png": "[encoded data removed]",
      "text/plain": [
       "<Figure size 720x720 with 2 Axes>"
      ]
     },
     "metadata": {
      "needs_background": "light"
     },
     "output_type": "display_data"
    }
   ],
   "source": [
    "#normalizing the data and plotting the confusion matrix\n",
    "\n",
    "from sklearn.metrics import confusion_matrix\n",
    "import itertools\n",
    "def plot_confusion_matrix(cm, classes,\n",
    "                          normalize=False,\n",
    "                          title='Confusion matrix',\n",
    "                          cmap=plt.cm.Oranges):\n",
    "    \"\"\"\n",
    "    This function prints and plots the confusion matrix.\n",
    "    Normalization can be applied by setting `normalize=True`\n",
    "    \"\"\"\n",
    "    if normalize:\n",
    "        cm = cm.astype('float') / cm.sum(axis=1)[:, np.newaxis]\n",
    "        print(\"Normalized confusion matrix\")\n",
    "    else:\n",
    "        print('Confusion matrix, without normalization')\n",
    "\n",
    "    print(cm)\n",
    "\n",
    "    plt.figure(figsize = (10, 10))\n",
    "    plt.imshow(cm, interpolation='nearest', cmap=cmap)\n",
    "    plt.title(title, size = 24)\n",
    "    plt.colorbar(aspect=4)\n",
    "    tick_marks = np.arange(len(classes))\n",
    "    plt.xticks(tick_marks, classes, rotation=45, size = 14)\n",
    "    plt.yticks(tick_marks, classes, size = 14)\n",
    "\n",
    "    fmt = '.2f' if normalize else 'd'\n",
    "    thresh = cm.max() / 2.\n",
    "    \n",
    "    # Labeling the plot\n",
    "    for i, j in itertools.product(range(cm.shape[0]), range(cm.shape[1])):\n",
    "        plt.text(j, i, format(cm[i, j], fmt), fontsize = 20,\n",
    "                 horizontalalignment=\"center\",\n",
    "                 color=\"white\" if cm[i, j] > thresh else \"black\")\n",
    "        \n",
    "    plt.grid(None)\n",
    "    plt.tight_layout()\n",
    "    plt.ylabel('True label', size = 18)\n",
    "    plt.xlabel('Predicted label', size = 18)\n",
    "\n",
    "cm = confusion_matrix(y_test, ypred)\n",
    "plot_confusion_matrix(cm, classes = ['fraud', 'not fraud'],\n",
    "                      title = 'FRAUD DETECTION CONFUSION MATRIX')"
   ]
  },
  {
   "cell_type": "code",
   "execution_count": 68,
   "metadata": {},
   "outputs": [
    {
     "name": "stdout",
     "output_type": "stream",
     "text": [
      "Logistic regression\n"
     ]
    },
    {
     "data": {
      "text/plain": [
       "75.0"
      ]
     },
     "execution_count": 68,
     "metadata": {},
     "output_type": "execute_result"
    }
   ],
   "source": [
    "#finding out the accuracy_score for the model\n",
    "#the below accuracy for the model is 68%,hyperparameters are yet to be applied\n",
    " \n",
    "from sklearn.metrics import accuracy_score\n",
    "\n",
    "print(\"Logistic regression\")\n",
    "accuracy_score(y_test,ypred) * 100"
   ]
  },
  {
   "cell_type": "code",
   "execution_count": 69,
   "metadata": {},
   "outputs": [
    {
     "name": "stdout",
     "output_type": "stream",
     "text": [
      "              precision    recall  f1-score   support\n",
      "\n",
      "           0       0.75      0.88      0.81        17\n",
      "           1       0.75      0.55      0.63        11\n",
      "\n",
      "    accuracy                           0.75        28\n",
      "   macro avg       0.75      0.71      0.72        28\n",
      "weighted avg       0.75      0.75      0.74        28\n",
      "\n"
     ]
    }
   ],
   "source": [
    "from sklearn.metrics import classification_report\n",
    "\n",
    "print(classification_report(y_test,ypred))"
   ]
  },
  {
   "cell_type": "code",
   "execution_count": 70,
   "metadata": {},
   "outputs": [],
   "source": [
    "#basically in the below code we are performing pipelining in the model itself will Normalize the data and perform PCA\n",
    "\n",
    "from sklearn import linear_model, decomposition, datasets\n",
    "from sklearn.pipeline import Pipeline\n",
    "from sklearn.model_selection import GridSearchCV, cross_val_score\n",
    "from sklearn.preprocessing import StandardScaler\n",
    "\n",
    "sc = StandardScaler()\n",
    "pca = decomposition.PCA(n_components=2)\n",
    "logistic = linear_model.LogisticRegression()"
   ]
  },
  {
   "cell_type": "code",
   "execution_count": 71,
   "metadata": {},
   "outputs": [],
   "source": [
    "pipe = Pipeline(steps=[('sc', sc),\n",
    "                        ('pca', pca),\n",
    "                        ('logistic', logistic)])"
   ]
  },
  {
   "cell_type": "code",
   "execution_count": 72,
   "metadata": {},
   "outputs": [],
   "source": [
    "n_components = list(range(1,features.shape[1]+1,1))\n",
    " # Create a list of values of the regularization parameter\n",
    "C = np.logspace(-4, 4, 15)\n",
    " # Create a list of options for the regularization penalty\n",
    "penalty = ['l1', 'l2']\n",
    "# Create a dictionary of all the parameter options \n",
    "#  accessing the parameters of steps of a pipeline by using '__’\n",
    "parameters = dict(pca__n_components=n_components,\n",
    "                    logistic__C=C,\n",
    "                    logistic__penalty=penalty)"
   ]
  },
  {
   "cell_type": "code",
   "execution_count": 73,
   "metadata": {},
   "outputs": [
    {
     "name": "stdout",
     "output_type": "stream",
     "text": [
      "Fitting 5 folds for each of 390 candidates, totalling 1950 fits\n"
     ]
    },
    {
     "name": "stderr",
     "output_type": "stream",
     "text": [
      "[Parallel(n_jobs=-1)]: Using backend LokyBackend with 12 concurrent workers.\n",
      "[Parallel(n_jobs=-1)]: Done  26 tasks      | elapsed:    4.2s\n",
      "[Parallel(n_jobs=-1)]: Done 256 tasks      | elapsed:    5.6s\n",
      "[Parallel(n_jobs=-1)]: Done 756 tasks      | elapsed:    8.2s\n",
      "[Parallel(n_jobs=-1)]: Done 1456 tasks      | elapsed:   11.7s\n"
     ]
    },
    {
     "name": "stdout",
     "output_type": "stream",
     "text": [
      "Best Penalty: l2\n",
      "Best C: 2682.695795279722\n",
      "Best Number Of Components: 12\n"
     ]
    },
    {
     "name": "stderr",
     "output_type": "stream",
     "text": [
      "[Parallel(n_jobs=-1)]: Done 1950 out of 1950 | elapsed:   14.0s finished\n"
     ]
    }
   ],
   "source": [
    "clf = GridSearchCV(pipe, parameters,verbose = True,n_jobs=-1,scoring='accuracy')\n",
    "\n",
    "# Fit the grid search\n",
    "clf.fit(features, labels)\n",
    "print('Best Penalty:', clf.best_estimator_.get_params()['logistic__penalty'])\n",
    "print('Best C:', clf.best_estimator_.get_params()['logistic__C'])\n",
    "print('Best Number Of Components:', clf.best_estimator_.get_params()['pca__n_components'])"
   ]
  },
  {
   "cell_type": "code",
   "execution_count": 74,
   "metadata": {},
   "outputs": [
    {
     "data": {
      "text/plain": [
       "{'logistic__C': 2682.695795279722,\n",
       " 'logistic__penalty': 'l2',\n",
       " 'pca__n_components': 12}"
      ]
     },
     "execution_count": 74,
     "metadata": {},
     "output_type": "execute_result"
    }
   ],
   "source": [
    "#this will return the best parameters that are required for our model\n",
    "clf.best_params_"
   ]
  },
  {
   "cell_type": "code",
   "execution_count": 75,
   "metadata": {},
   "outputs": [
    {
     "data": {
      "text/plain": [
       "0.75"
      ]
     },
     "execution_count": 75,
     "metadata": {},
     "output_type": "execute_result"
    }
   ],
   "source": [
    "#this will return the mean accuracy of the model\n",
    "clf.best_score_"
   ]
  },
  {
   "cell_type": "code",
   "execution_count": 76,
   "metadata": {},
   "outputs": [
    {
     "data": {
      "text/plain": [
       "Pipeline(memory=None,\n",
       "         steps=[('sc',\n",
       "                 StandardScaler(copy=True, with_mean=True, with_std=True)),\n",
       "                ('pca',\n",
       "                 PCA(copy=True, iterated_power='auto', n_components=12,\n",
       "                     random_state=None, svd_solver='auto', tol=0.0,\n",
       "                     whiten=False)),\n",
       "                ('logistic',\n",
       "                 LogisticRegression(C=2682.695795279722, class_weight=None,\n",
       "                                    dual=False, fit_intercept=True,\n",
       "                                    intercept_scaling=1, l1_ratio=None,\n",
       "                                    max_iter=100, multi_class='auto',\n",
       "                                    n_jobs=None, penalty='l2',\n",
       "                                    random_state=None, solver='lbfgs',\n",
       "                                    tol=0.0001, verbose=0, warm_start=False))],\n",
       "         verbose=False)"
      ]
     },
     "execution_count": 76,
     "metadata": {},
     "output_type": "execute_result"
    }
   ],
   "source": [
    "clf.best_estimator_"
   ]
  },
  {
   "cell_type": "code",
   "execution_count": 77,
   "metadata": {},
   "outputs": [
    {
     "data": {
      "text/plain": [
       "LogisticRegression(C=2682.695795279722, class_weight=None, dual=False,\n",
       "                   fit_intercept=True, intercept_scaling=1, l1_ratio=None,\n",
       "                   max_iter=100, multi_class='auto', n_jobs=None, penalty='l2',\n",
       "                   random_state=None, solver='lbfgs', tol=0.0001, verbose=0,\n",
       "                   warm_start=False)"
      ]
     },
     "execution_count": 77,
     "metadata": {},
     "output_type": "execute_result"
    }
   ],
   "source": [
    "clf.best_estimator_.get_params()['logistic']"
   ]
  },
  {
   "cell_type": "code",
   "execution_count": 78,
   "metadata": {},
   "outputs": [],
   "source": [
    "#here cross_val_score will split the whole data into training and testing and perforn cross validations\n",
    "cross_val = cross_val_score(clf,features,labels,cv=3,scoring='accuracy',n_jobs=-1)"
   ]
  },
  {
   "cell_type": "code",
   "execution_count": 79,
   "metadata": {},
   "outputs": [
    {
     "data": {
      "text/plain": [
       "array([72.34042553, 82.9787234 , 76.08695652])"
      ]
     },
     "execution_count": 79,
     "metadata": {},
     "output_type": "execute_result"
    }
   ],
   "source": [
    "#this will return the accuracy of each dataset that was splitted on the basics of 'cv' value which is 3\n",
    "cross_val * 100"
   ]
  },
  {
   "cell_type": "code",
   "execution_count": 80,
   "metadata": {},
   "outputs": [
    {
     "name": "stdout",
     "output_type": "stream",
     "text": [
      "the mean accuracy of our model is 77.13536848596978\n"
     ]
    }
   ],
   "source": [
    "print('the mean accuracy of our model is',(cross_val * 100).mean())"
   ]
  },
  {
   "cell_type": "code",
   "execution_count": 81,
   "metadata": {},
   "outputs": [
    {
     "name": "stdout",
     "output_type": "stream",
     "text": [
      "the maximum accuracy of our model is 82.97872340425532\n"
     ]
    }
   ],
   "source": [
    "print('the maximum accuracy of our model is',max(cross_val * 100))"
   ]
  },
  {
   "cell_type": "code",
   "execution_count": null,
   "metadata": {},
   "outputs": [],
   "source": []
  },
  {
   "cell_type": "markdown",
   "metadata": {},
   "source": [
    "# INFERENCES"
   ]
  },
  {
   "cell_type": "markdown",
   "metadata": {},
   "source": [
    "* There is a very less probability of payment to fail\n",
    "* People prefer Card over other payment methods types\n",
    "* JCB 16 DIGIT is widely used followed by VISA 16 DIGIT and rest \n",
    "* After the payment is completed , the probability of transaction to fail is low\n",
    "* It is found out that the most of the orders were fullfilled\n",
    "* It is seen that the cases of fraud is nearly half of those that are not fraud\n",
    "* It seems that as the no.of payments increase the no,of transactions tend to decrease \n",
    "* As the no.of orders increase the no.of payments tend to increase\n",
    "* When the payment method is not card then it is seen that the not fraud and fraud cases are nearly same and when card is used   the non fraud case is higher than the fraud case\n",
    "* When the payment method is not paypal then the cases of not fraud is higher than cases of fraud and when paypal is used there   is no case of fraud at all\n",
    "* When the payment type is not bitcoin it is found that the cases of non fraud is higher than the cases of fraud and             when bitcoin is used it is found that fraud and non fraud cases is almost same\n",
    "\n",
    "\n",
    "\n"
   ]
  },
  {
   "cell_type": "markdown",
   "metadata": {},
   "source": [
    "#  Model_Selection"
   ]
  },
  {
   "cell_type": "markdown",
   "metadata": {},
   "source": [
    "* Initially , we decided to use Logistic Regression as it seems to appear as a binary problem and achieved an accuracy of 75%\n",
    "* \n",
    "* Implemented a pipeline such that it will Normalize the data and perform PCA\n",
    "* \n",
    "* Applied CrossValidation and fitting the model via GridSearch\n",
    "* \n",
    "* The mean accuracy of our model is 77.13536848596978 %\n",
    "  The highest accuracy of our model is 82.97872340425532 %"
   ]
  },
  {
   "cell_type": "code",
   "execution_count": null,
   "metadata": {},
   "outputs": [],
   "source": []
  }
 ],
 "metadata": {
  "kernelspec": {
   "display_name": "Python 3",
   "language": "python",
   "name": "python3"
  },
  "language_info": {
   "codemirror_mode": {
    "name": "ipython",
    "version": 3
   },
   "file_extension": ".py",
   "mimetype": "text/x-python",
   "name": "python",
   "nbconvert_exporter": "python",
   "pygments_lexer": "ipython3",
   "version": "3.7.6"
  }
 },
 "nbformat": 4,
 "nbformat_minor": 4
}
